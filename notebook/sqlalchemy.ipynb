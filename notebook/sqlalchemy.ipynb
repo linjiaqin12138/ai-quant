{
 "cells": [
  {
   "cell_type": "code",
   "execution_count": 1,
   "id": "3243aa00-9bc5-46a5-b1c8-0d66ce091502",
   "metadata": {},
   "outputs": [
    {
     "data": {
      "text/plain": [
       "'2.0.31'"
      ]
     },
     "execution_count": 1,
     "metadata": {},
     "output_type": "execute_result"
    }
   ],
   "source": [
    "import sqlalchemy\n",
    "sqlalchemy.__version__  "
   ]
  },
  {
   "cell_type": "markdown",
   "id": "581edc59-93b6-4d9a-89ff-4e0287fdc1a3",
   "metadata": {},
   "source": [
    "Python DBAPI 是 SQLAlchemy 用于与特定数据库交互的第三方驱动程序。在这种情况下，我们使用名称 pysqlite，在现代 Python 用法中，它是 SQLite 的 sqlite3 标准库接口。\n",
    "\n",
    "我们的 URL 包含短语 /:memory:，这是向 sqlite3 模块指示我们将使用仅限内存数据库的指示符。这种数据库非常适合进行实验，因为它不需要任何服务器，也不需要创建新文件。\n",
    "\n",
    "当 Engine 最初由 create_engine() 返回时，它实际上尚未尝试连接到数据库；只有在第一次要求它对数据库执行任务时才会发生这种情况。这是一种称为 延迟初始化 的软件设计模式。\n",
    "\n",
    "我们还指定了一个参数 create_engine.echo，它将指示 Engine 将其发出的所有 SQL 记录到一个 Python 日志记录器中，该日志记录器将写入标准输出。此标志是设置 Python 日志记录的正式方式 的一种简便方法，并且对于在脚本中进行实验很有用。"
   ]
  },
  {
   "cell_type": "code",
   "execution_count": 2,
   "id": "875f9f9b-747b-4d14-9e7a-01259bc19dfc",
   "metadata": {},
   "outputs": [],
   "source": [
    "from sqlalchemy import create_engine\n",
    "engine = create_engine(\"sqlite+pysqlite:///:memory:\", echo=True)"
   ]
  },
  {
   "cell_type": "markdown",
   "id": "35c3e22c-ee9d-4721-b4d3-435b5b3eea84",
   "metadata": {},
   "source": [
    "我们现在可以深入研究 Engine 的基本操作及其主要交互端点，即 Connection 和 Result。\n",
    "\n",
    "在使用 ORM 时，Engine 由另一个名为 Session 的对象管理。现代 SQLAlchemy 中的 Session 强调了一种事务性和 SQL 执行模式，与下面讨论的 Connection 的模式基本相同，因此，虽然本节主要针对 Core，但这里的所有概念实际上也与 ORM 使用相关\n",
    "\n",
    "上下文管理器提供了数据库连接，并将操作封装在事务中。Python DBAPI 的默认行为包括始终进行事务；当连接的范围 释放 时，将发出 ROLLBACK 以结束事务。事务 **不会自动提交**；当我们想要提交数据时，通常需要调用 Connection.commit()"
   ]
  },
  {
   "cell_type": "code",
   "execution_count": 3,
   "id": "a13e82f9-8ac7-4387-aca2-979222d408f3",
   "metadata": {},
   "outputs": [
    {
     "name": "stdout",
     "output_type": "stream",
     "text": [
      "2024-06-30 16:05:15,145 INFO sqlalchemy.engine.Engine BEGIN (implicit)\n",
      "2024-06-30 16:05:15,146 INFO sqlalchemy.engine.Engine select 'hello world'\n",
      "2024-06-30 16:05:15,147 INFO sqlalchemy.engine.Engine [generated in 0.00187s] ()\n",
      "[('hello world',)]\n",
      "2024-06-30 16:05:15,148 INFO sqlalchemy.engine.Engine ROLLBACK\n"
     ]
    }
   ],
   "source": [
    "from sqlalchemy import text\n",
    "with engine.connect() as conn:\n",
    "    result = conn.execute(text(\"select 'hello world'\"))\n",
    "    print(result.all())"
   ]
  },
  {
   "cell_type": "code",
   "execution_count": 4,
   "id": "c91ab085-b473-4c5a-82e0-045aeeb8073a",
   "metadata": {},
   "outputs": [
    {
     "name": "stdout",
     "output_type": "stream",
     "text": [
      "2024-06-30 16:05:15,397 INFO sqlalchemy.engine.Engine BEGIN (implicit)\n",
      "2024-06-30 16:05:15,398 INFO sqlalchemy.engine.Engine CREATE TABLE some_table (x int, y int)\n",
      "2024-06-30 16:05:15,399 INFO sqlalchemy.engine.Engine [generated in 0.00183s] ()\n",
      "2024-06-30 16:05:15,400 INFO sqlalchemy.engine.Engine INSERT INTO some_table (x, y) VALUES (?, ?)\n",
      "2024-06-30 16:05:15,401 INFO sqlalchemy.engine.Engine [generated in 0.00071s] [(1, 1), (2, 4)]\n",
      "2024-06-30 16:05:15,402 INFO sqlalchemy.engine.Engine COMMIT\n"
     ]
    }
   ],
   "source": [
    "with engine.connect() as conn:\n",
    "    conn.execute(text(\"CREATE TABLE some_table (x int, y int)\"))\n",
    "    conn.execute(\n",
    "        text(\n",
    "            \"INSERT INTO some_table (x, y) VALUES (:x, :y)\"\n",
    "        ),\n",
    "        [{\"x\": 1, \"y\": 1}, {\"x\": 2, \"y\": 4}],\n",
    "    )\n",
    "    conn.commit()"
   ]
  },
  {
   "cell_type": "markdown",
   "id": "6fa2b496-8706-42c5-adc0-36773c9cd659",
   "metadata": {},
   "source": [
    "还有一种提交数据的方式，即我们可以预先将“连接”块声明为事务块。对于这种操作模式，我们使用 Engine.begin() 方法获取连接，而不是使用 Engine.connect() 方法。此方法将同时管理 Connection 的范围，并将所有内容包含在一个事务中，并在成功执行块后执行 COMMIT，或在出现异常时执行 ROLLBACK。这种方式被称为 **一次开始**\n",
    "\n",
    "输出中的的“BEGIN (implicit)”意味着 SQLAlchemy **实际上没有向数据库发送任何命令**；"
   ]
  },
  {
   "cell_type": "code",
   "execution_count": 5,
   "id": "9f21bdc6-b135-428c-ae26-acc41dc3920c",
   "metadata": {},
   "outputs": [
    {
     "name": "stdout",
     "output_type": "stream",
     "text": [
      "2024-06-30 16:05:15,802 INFO sqlalchemy.engine.Engine BEGIN (implicit)\n",
      "2024-06-30 16:05:15,803 INFO sqlalchemy.engine.Engine SELECT x, y FROM some_table WHERE y > ?\n",
      "2024-06-30 16:05:15,804 INFO sqlalchemy.engine.Engine [generated in 0.00192s] (2,)\n",
      "x: 2  y: 4\n",
      "2024-06-30 16:05:15,805 INFO sqlalchemy.engine.Engine ROLLBACK\n",
      "2024-06-30 16:05:15,807 INFO sqlalchemy.engine.Engine BEGIN (implicit)\n",
      "2024-06-30 16:05:15,807 INFO sqlalchemy.engine.Engine INSERT INTO some_table (x, y) VALUES (?, ?)\n",
      "2024-06-30 16:05:15,808 INFO sqlalchemy.engine.Engine [cached since 0.4084s ago] [(11, 12), (13, 14)]\n",
      "2024-06-30 16:05:15,809 INFO sqlalchemy.engine.Engine COMMIT\n"
     ]
    }
   ],
   "source": [
    "# 使用参数防止SQL注入\n",
    "with engine.connect() as conn:\n",
    "    result = conn.execute(text(\"SELECT x, y FROM some_table WHERE y > :y\"), {\"y\": 2})\n",
    "    for row in result:\n",
    "        print(f\"x: {row.x}  y: {row.y}\")\n",
    "with engine.begin() as conn:\n",
    "    conn.execute(\n",
    "        text(\"INSERT INTO some_table (x, y) VALUES (:x, :y)\"),\n",
    "        # 数组表示要多次调用同一个SQL并使用数组中的参数\n",
    "        [{\"x\": 11, \"y\": 12}, {\"x\": 13, \"y\": 14}],\n",
    "    )\n",
    "    \n",
    "    conn.commit()"
   ]
  },
  {
   "cell_type": "markdown",
   "id": "06597f51-b657-4cc0-abd1-0b74d60069be",
   "metadata": {},
   "source": [
    "Result 具有许多用于获取和转换行的方法，例如前面说明的 Result.all() 方法，该方法返回所有 Row 对象的列表。它还实现了 Python 迭代器接口，以便我们可以直接迭代 Row 对象的集合。\n",
    "\n",
    "“execute” 和 “executemany” 之间的一个关键行为差异是，后者不支持返回结果行"
   ]
  },
  {
   "cell_type": "code",
   "execution_count": 6,
   "id": "b75e956a-6939-420a-8d6b-eeadbab1617b",
   "metadata": {},
   "outputs": [
    {
     "name": "stdout",
     "output_type": "stream",
     "text": [
      "2024-06-30 16:05:16,258 INFO sqlalchemy.engine.Engine BEGIN (implicit)\n",
      "2024-06-30 16:05:16,259 INFO sqlalchemy.engine.Engine SELECT x, y FROM some_table\n",
      "2024-06-30 16:05:16,260 INFO sqlalchemy.engine.Engine [generated in 0.00139s] ()\n",
      "x: 1  y: 1\n",
      "x: 2  y: 4\n",
      "x: 11  y: 12\n",
      "x: 13  y: 14\n",
      "2024-06-30 16:05:16,261 INFO sqlalchemy.engine.Engine ROLLBACK\n"
     ]
    }
   ],
   "source": [
    "with engine.connect() as conn:\n",
    "    result = conn.execute(text(\"SELECT x, y FROM some_table\"))\n",
    "    # for x, y in result:\n",
    "    # for dict_row in result.mappings() => dict_row[\"x\"]\n",
    "    for row in result:\n",
    "        # x = row[0], y = row[1]\n",
    "        print(f\"x: {row.x}  y: {row.y}\")"
   ]
  },
  {
   "cell_type": "code",
   "execution_count": 7,
   "id": "3020f091-331d-4531-838b-a87dad8011e0",
   "metadata": {},
   "outputs": [
    {
     "name": "stdout",
     "output_type": "stream",
     "text": [
      "2024-06-30 16:05:16,619 INFO sqlalchemy.engine.Engine BEGIN (implicit)\n",
      "2024-06-30 16:05:16,620 INFO sqlalchemy.engine.Engine SELECT x, y FROM some_table WHERE y > ? ORDER BY x, y\n",
      "2024-06-30 16:05:16,621 INFO sqlalchemy.engine.Engine [generated in 0.00078s] (6,)\n",
      "x: 11  y: 12\n",
      "x: 13  y: 14\n",
      "2024-06-30 16:05:16,622 INFO sqlalchemy.engine.Engine ROLLBACK\n",
      "2024-06-30 16:05:16,623 INFO sqlalchemy.engine.Engine BEGIN (implicit)\n",
      "2024-06-30 16:05:16,624 INFO sqlalchemy.engine.Engine UPDATE some_table SET y=? WHERE x=?\n",
      "2024-06-30 16:05:16,625 INFO sqlalchemy.engine.Engine [generated in 0.00095s] [(11, 9), (15, 13)]\n",
      "2024-06-30 16:05:16,626 INFO sqlalchemy.engine.Engine COMMIT\n"
     ]
    }
   ],
   "source": [
    "from sqlalchemy.orm import Session\n",
    "\n",
    "stmt = text(\"SELECT x, y FROM some_table WHERE y > :y ORDER BY x, y\")\n",
    "with Session(engine) as session:\n",
    "    result = session.execute(stmt, {\"y\": 6})\n",
    "    for row in result:\n",
    "        print(f\"x: {row.x}  y: {row.y}\")\n",
    "with Session(engine) as session:\n",
    "    result = session.execute(\n",
    "        text(\"UPDATE some_table SET y=:y WHERE x=:x\"),\n",
    "        [{\"x\": 9, \"y\": 11}, {\"x\": 13, \"y\": 15}],\n",
    "    )\n",
    "    session.commit()"
   ]
  },
  {
   "cell_type": "markdown",
   "id": "72403562-6116-4fff-9c31-9b0956d1ae36",
   "metadata": {},
   "source": [
    "当Session结束事务后，它实际上不会保留Connection对象。它会在下次需要对数据库执行 SQL 时，从Engine获取一个新的Connection\n",
    "\n",
    "SQLAlchemy Core 和 ORM 的核心元素是 SQL 表达式语言，它允许以流畅、可组合的方式构建 SQL 查询。这些查询的基础是表示数据库概念（如表和列）的 Python 对象。这些对象统称为 数据库元数据。\n",
    "\n",
    "要开始使用 SQLAlchemy 表达式语言，我们需要构建表示我们想要操作的所有数据库表的 Table 对象。Table 是以编程方式构建的，可以通过直接使用 Table 构造函数，也可以通过使用 ORM Mapped 类间接构建。还可以选择从现有数据库加载部分或全部表信息，称为 反射。\n",
    "\n",
    "无论使用哪种方法，我们总是从一个集合开始，这个集合将是我们放置**称为 MetaData 对象的表的集合**。这个对象本质上是一个围绕 Python 字典的 facade，它**存储一系列以字符串名称为键的 Table 对象**。虽然 ORM 提供了一些关于从哪里获取这个集合的选项，但我们始终可以选择直接创建一个。一旦我们有了 MetaData 对象，我们就可以声明一些 Table 对象。同一个 MetaData 在 ORM 和 Core 声明的 Table 对象之间共享。"
   ]
  },
  {
   "cell_type": "code",
   "execution_count": 8,
   "id": "b533b0f6-b634-46b7-a8d6-481fda9ea44e",
   "metadata": {},
   "outputs": [],
   "source": [
    "from sqlalchemy import MetaData\n",
    "from sqlalchemy import Table, Column, Integer, String\n",
    "metadata_obj = MetaData()\n",
    "\n",
    "user_table = Table(\n",
    "    \"user_account\",\n",
    "    metadata_obj,\n",
    "    Column(\"id\", Integer, primary_key=True),\n",
    "    Column(\"name\", String(30)),\n",
    "    Column(\"fullname\", String),\n",
    ")"
   ]
  },
  {
   "cell_type": "markdown",
   "id": "d4d0b537-bfa4-4a22-97fa-abc68091ba21",
   "metadata": {},
   "source": [
    "当我们想要编写引用数据库中 user_account 表的代码时，我们将使用 user_table Python 变量来引用它\n",
    "\n",
    " Column 对象在父 Table 中的集合通常通过位于 Table.c 的关联数组访问。"
   ]
  },
  {
   "cell_type": "code",
   "execution_count": 9,
   "id": "e180a013-921e-49ca-841e-88e3b2f22e5b",
   "metadata": {},
   "outputs": [
    {
     "name": "stdout",
     "output_type": "stream",
     "text": [
      "user_account.name\n",
      "['id', 'name', 'fullname']\n",
      "PrimaryKeyConstraint(Column('id', Integer(), table=<user_account>, primary_key=True, nullable=False))\n"
     ]
    }
   ],
   "source": [
    "print(user_table.c.name)\n",
    "print(user_table.c.keys())\n",
    "print(user_table.primary_key)"
   ]
  },
  {
   "cell_type": "markdown",
   "id": "274570f2-f1fa-41bc-a2fe-bd9b2c598fba",
   "metadata": {},
   "source": [
    "最常显式声明的约束是 ForeignKeyConstraint 对象，它对应于数据库 外键约束。当我们声明相互关联的表时，SQLAlchemy 使用这些外键约束声明的存在，不仅是为了在 CREATE 语句中将它们发送到数据库，而且是为了帮助构建 SQL 表达式。"
   ]
  },
  {
   "cell_type": "code",
   "execution_count": 10,
   "id": "36c9d5ee-6314-458d-8c93-c60a575ad430",
   "metadata": {},
   "outputs": [],
   "source": [
    "from sqlalchemy import ForeignKey\n",
    "address_table = Table(\n",
    "    \"address\",\n",
    "    metadata_obj,\n",
    "    Column(\"id\", Integer, primary_key=True),\n",
    "    Column(\"user_id\", ForeignKey(\"user_account.id\"), nullable=False),\n",
    "    Column(\"email_address\", String, nullable=False),\n",
    ")"
   ]
  },
  {
   "cell_type": "markdown",
   "id": "32979796-cf40-443d-990e-cedb6f64aaed",
   "metadata": {},
   "source": [
    "利用表结构建表"
   ]
  },
  {
   "cell_type": "code",
   "execution_count": 11,
   "id": "6963bcf1-26ca-4e29-8ba6-f9d07dd9b45d",
   "metadata": {},
   "outputs": [
    {
     "name": "stdout",
     "output_type": "stream",
     "text": [
      "2024-06-30 16:05:19,793 INFO sqlalchemy.engine.Engine BEGIN (implicit)\n",
      "2024-06-30 16:05:19,794 INFO sqlalchemy.engine.Engine PRAGMA main.table_info(\"user_account\")\n",
      "2024-06-30 16:05:19,795 INFO sqlalchemy.engine.Engine [raw sql] ()\n",
      "2024-06-30 16:05:19,796 INFO sqlalchemy.engine.Engine PRAGMA temp.table_info(\"user_account\")\n",
      "2024-06-30 16:05:19,797 INFO sqlalchemy.engine.Engine [raw sql] ()\n",
      "2024-06-30 16:05:19,798 INFO sqlalchemy.engine.Engine PRAGMA main.table_info(\"address\")\n",
      "2024-06-30 16:05:19,798 INFO sqlalchemy.engine.Engine [raw sql] ()\n",
      "2024-06-30 16:05:19,799 INFO sqlalchemy.engine.Engine PRAGMA temp.table_info(\"address\")\n",
      "2024-06-30 16:05:19,800 INFO sqlalchemy.engine.Engine [raw sql] ()\n",
      "2024-06-30 16:05:19,801 INFO sqlalchemy.engine.Engine \n",
      "CREATE TABLE user_account (\n",
      "\tid INTEGER NOT NULL, \n",
      "\tname VARCHAR(30), \n",
      "\tfullname VARCHAR, \n",
      "\tPRIMARY KEY (id)\n",
      ")\n",
      "\n",
      "\n",
      "2024-06-30 16:05:19,802 INFO sqlalchemy.engine.Engine [no key 0.00068s] ()\n",
      "2024-06-30 16:05:19,804 INFO sqlalchemy.engine.Engine \n",
      "CREATE TABLE address (\n",
      "\tid INTEGER NOT NULL, \n",
      "\tuser_id INTEGER NOT NULL, \n",
      "\temail_address VARCHAR NOT NULL, \n",
      "\tPRIMARY KEY (id), \n",
      "\tFOREIGN KEY(user_id) REFERENCES user_account (id)\n",
      ")\n",
      "\n",
      "\n",
      "2024-06-30 16:05:19,804 INFO sqlalchemy.engine.Engine [no key 0.00065s] ()\n",
      "2024-06-30 16:05:19,806 INFO sqlalchemy.engine.Engine COMMIT\n"
     ]
    }
   ],
   "source": [
    "metadata_obj.create_all(engine)"
   ]
  },
  {
   "cell_type": "markdown",
   "id": "ad0c5ef0-83b9-4d17-92d0-5e0d17b09d88",
   "metadata": {},
   "source": [
    "声明 Table 元数据的过程通常与声明 映射 类相结合。映射类是我们想要创建的任何 Python 类，它将具有与数据库表中的列关联的属性。"
   ]
  },
  {
   "cell_type": "markdown",
   "id": "c8d92c90-a75c-4649-b0f7-5480d33bd4fc",
   "metadata": {},
   "source": [
    "当使用 ORM 时，MetaData 集合仍然存在，但它本身与一个仅限 ORM 的结构相关联，通常被称为 **声明式基类**。获取新的声明式基类的最便捷方式是创建一个新的类，该类是 SQLAlchemy DeclarativeBase 类的子类。"
   ]
  },
  {
   "cell_type": "code",
   "execution_count": 12,
   "id": "8915aa72-f93d-4d55-8595-9ec4d37bef6e",
   "metadata": {},
   "outputs": [],
   "source": [
    "from sqlalchemy.orm import DeclarativeBase\n",
    "class Base(DeclarativeBase):\n",
    "    pass"
   ]
  },
  {
   "cell_type": "code",
   "execution_count": 13,
   "id": "96b15110-63db-443e-b6e3-4118da7bfea2",
   "metadata": {},
   "outputs": [
    {
     "data": {
      "text/plain": [
       "MetaData()"
      ]
     },
     "execution_count": 13,
     "metadata": {},
     "output_type": "execute_result"
    }
   ],
   "source": [
    "Base.metadata"
   ]
  },
  {
   "cell_type": "code",
   "execution_count": 14,
   "id": "a00e46d0-f02f-41e6-a8ba-af18a2b12ed0",
   "metadata": {},
   "outputs": [
    {
     "data": {
      "text/plain": [
       "<sqlalchemy.orm.decl_api.registry at 0x1b483552250>"
      ]
     },
     "execution_count": 14,
     "metadata": {},
     "output_type": "execute_result"
    }
   ],
   "source": [
    "# 它是 SQLAlchemy ORM 中的中心“映射配置”单元。虽然很少直接访问，但此对象是映射配置过程的核心，因为一组 ORM 映射类将通过此注册表相互协调\n",
    "Base.registry"
   ]
  },
  {
   "cell_type": "code",
   "execution_count": 15,
   "id": "cbaa0031-a119-4a23-8620-acdbb701ec51",
   "metadata": {},
   "outputs": [],
   "source": [
    "from typing import List\n",
    "from typing import Optional\n",
    "from sqlalchemy.orm import Mapped\n",
    "from sqlalchemy.orm import mapped_column\n",
    "from sqlalchemy.orm import relationship\n",
    "\n",
    "class User(Base):\n",
    "    __tablename__ = \"user_account\"\n",
    "    id: Mapped[int] = mapped_column(primary_key=True)\n",
    "    name: Mapped[str] = mapped_column(String(30))\n",
    "    fullname: Mapped[Optional[str]]\n",
    "    addresses: Mapped[List[\"Address\"]] = relationship(back_populates=\"user\")\n",
    "    def __repr__(self) -> str:\n",
    "        return f\"User(id={self.id!r}, name={self.name!r}, fullname={self.fullname!r})\"\n",
    "\n",
    "class Address(Base):\n",
    "    __tablename__ = \"address\"\n",
    "    id: Mapped[int] = mapped_column(primary_key=True)\n",
    "    email_address: Mapped[str]\n",
    "    user_id = mapped_column(ForeignKey(\"user_account.id\"))\n",
    "    user: Mapped[User] = relationship(back_populates=\"addresses\")\n",
    "    def __repr__(self) -> str:\n",
    "        return f\"Address(id={self.id!r}, email_address={self.email_address!r})\""
   ]
  },
  {
   "cell_type": "markdown",
   "id": "84270e46-dd8c-47a1-92ad-ef68615a66fc",
   "metadata": {},
   "source": [
    "如果我们没有声明自己的 __init__() 方法，这些类将自动获得一个 __init__() 方法。此方法的默认形式接受所有属性名称作为可选关键字参数。"
   ]
  },
  {
   "cell_type": "code",
   "execution_count": 16,
   "id": "f995fc6c-99fa-4b09-974c-6556210a5dab",
   "metadata": {},
   "outputs": [],
   "source": [
    "sandy = User(name=\"sandy\", fullname=\"Sandy Cheeks\")"
   ]
  },
  {
   "cell_type": "code",
   "execution_count": 17,
   "id": "bd7d1bcc-1b4c-4b2c-b486-87b7599a9bc1",
   "metadata": {},
   "outputs": [
    {
     "name": "stdout",
     "output_type": "stream",
     "text": [
      "2024-06-30 16:05:23,688 INFO sqlalchemy.engine.Engine BEGIN (implicit)\n",
      "2024-06-30 16:05:23,689 INFO sqlalchemy.engine.Engine PRAGMA main.table_info(\"user_account\")\n",
      "2024-06-30 16:05:23,690 INFO sqlalchemy.engine.Engine [raw sql] ()\n",
      "2024-06-30 16:05:23,691 INFO sqlalchemy.engine.Engine PRAGMA main.table_info(\"address\")\n",
      "2024-06-30 16:05:23,691 INFO sqlalchemy.engine.Engine [raw sql] ()\n",
      "2024-06-30 16:05:23,692 INFO sqlalchemy.engine.Engine COMMIT\n"
     ]
    }
   ],
   "source": [
    "Base.metadata.create_all(engine)"
   ]
  },
  {
   "cell_type": "markdown",
   "id": "8995e50b-6fda-4117-b70c-6bb23b3f7e11",
   "metadata": {},
   "source": [
    "如何从现有数据库中自动生成Table对象"
   ]
  },
  {
   "cell_type": "code",
   "execution_count": 18,
   "id": "9e4a5450-a06c-4a5e-8b3a-ae914e00f2f8",
   "metadata": {},
   "outputs": [
    {
     "name": "stdout",
     "output_type": "stream",
     "text": [
      "2024-06-30 16:05:24,505 INFO sqlalchemy.engine.Engine BEGIN (implicit)\n",
      "2024-06-30 16:05:24,506 INFO sqlalchemy.engine.Engine PRAGMA main.table_xinfo(\"some_table\")\n",
      "2024-06-30 16:05:24,506 INFO sqlalchemy.engine.Engine [raw sql] ()\n",
      "2024-06-30 16:05:24,508 INFO sqlalchemy.engine.Engine SELECT sql FROM  (SELECT * FROM sqlite_master UNION ALL   SELECT * FROM sqlite_temp_master) WHERE name = ? AND type in ('table', 'view')\n",
      "2024-06-30 16:05:24,508 INFO sqlalchemy.engine.Engine [raw sql] ('some_table',)\n",
      "2024-06-30 16:05:24,510 INFO sqlalchemy.engine.Engine PRAGMA main.foreign_key_list(\"some_table\")\n",
      "2024-06-30 16:05:24,510 INFO sqlalchemy.engine.Engine [raw sql] ()\n",
      "2024-06-30 16:05:24,511 INFO sqlalchemy.engine.Engine PRAGMA temp.foreign_key_list(\"some_table\")\n",
      "2024-06-30 16:05:24,512 INFO sqlalchemy.engine.Engine [raw sql] ()\n",
      "2024-06-30 16:05:24,513 INFO sqlalchemy.engine.Engine SELECT sql FROM  (SELECT * FROM sqlite_master UNION ALL   SELECT * FROM sqlite_temp_master) WHERE name = ? AND type in ('table', 'view')\n",
      "2024-06-30 16:05:24,514 INFO sqlalchemy.engine.Engine [raw sql] ('some_table',)\n",
      "2024-06-30 16:05:24,516 INFO sqlalchemy.engine.Engine PRAGMA main.index_list(\"some_table\")\n",
      "2024-06-30 16:05:24,516 INFO sqlalchemy.engine.Engine [raw sql] ()\n",
      "2024-06-30 16:05:24,518 INFO sqlalchemy.engine.Engine PRAGMA temp.index_list(\"some_table\")\n",
      "2024-06-30 16:05:24,518 INFO sqlalchemy.engine.Engine [raw sql] ()\n",
      "2024-06-30 16:05:24,519 INFO sqlalchemy.engine.Engine PRAGMA main.table_info(\"some_table\")\n",
      "2024-06-30 16:05:24,520 INFO sqlalchemy.engine.Engine [raw sql] ()\n",
      "2024-06-30 16:05:24,521 INFO sqlalchemy.engine.Engine PRAGMA main.index_list(\"some_table\")\n",
      "2024-06-30 16:05:24,522 INFO sqlalchemy.engine.Engine [raw sql] ()\n",
      "2024-06-30 16:05:24,523 INFO sqlalchemy.engine.Engine PRAGMA temp.index_list(\"some_table\")\n",
      "2024-06-30 16:05:24,523 INFO sqlalchemy.engine.Engine [raw sql] ()\n",
      "2024-06-30 16:05:24,524 INFO sqlalchemy.engine.Engine PRAGMA main.table_info(\"some_table\")\n",
      "2024-06-30 16:05:24,525 INFO sqlalchemy.engine.Engine [raw sql] ()\n",
      "2024-06-30 16:05:24,526 INFO sqlalchemy.engine.Engine SELECT sql FROM  (SELECT * FROM sqlite_master UNION ALL   SELECT * FROM sqlite_temp_master) WHERE name = ? AND type in ('table', 'view')\n",
      "2024-06-30 16:05:24,526 INFO sqlalchemy.engine.Engine [raw sql] ('some_table',)\n",
      "2024-06-30 16:05:24,529 INFO sqlalchemy.engine.Engine ROLLBACK\n"
     ]
    }
   ],
   "source": [
    "# 给出表的名称和它将所属的MetaData集合，然后不是指定单个Column和Constraint对象，而是使用Engine传递目标Table.autoload_with参数\n",
    "some_table = Table(\"some_table\", metadata_obj, autoload_with=engine)"
   ]
  },
  {
   "cell_type": "code",
   "execution_count": 19,
   "id": "84f0cb28-62d0-458b-869d-4a701f14d846",
   "metadata": {},
   "outputs": [
    {
     "data": {
      "text/plain": [
       "Table('some_table', MetaData(), Column('x', INTEGER(), table=<some_table>), Column('y', INTEGER(), table=<some_table>), schema=None)"
      ]
     },
     "execution_count": 19,
     "metadata": {},
     "output_type": "execute_result"
    }
   ],
   "source": [
    "some_table"
   ]
  },
  {
   "cell_type": "markdown",
   "id": "bfc0b698-efa7-439a-915d-3f843ec12ce5",
   "metadata": {},
   "source": [
    "### INSERT"
   ]
  },
  {
   "cell_type": "code",
   "execution_count": 20,
   "id": "010fd738-2192-41b5-a6fc-3b30bb1dface",
   "metadata": {},
   "outputs": [],
   "source": [
    "from sqlalchemy import insert, select\n",
    "stmt = insert(user_table).values(name=\"spongebob\", fullname=\"Spongebob Squarepants\")"
   ]
  },
  {
   "cell_type": "code",
   "execution_count": 21,
   "id": "1af6a933-5b28-44d2-b6db-813c8151a7db",
   "metadata": {},
   "outputs": [
    {
     "name": "stdout",
     "output_type": "stream",
     "text": [
      "INSERT INTO user_account (name, fullname) VALUES (:name, :fullname)\n"
     ]
    }
   ],
   "source": [
    "print(stmt)"
   ]
  },
  {
   "cell_type": "code",
   "execution_count": 22,
   "id": "469d2609-0c66-4b92-a84d-8b3d847a8a5e",
   "metadata": {},
   "outputs": [],
   "source": [
    "compiled = stmt.compile()"
   ]
  },
  {
   "cell_type": "code",
   "execution_count": 23,
   "id": "22204e4f-60c6-4fea-9087-99a68300f9e6",
   "metadata": {},
   "outputs": [
    {
     "data": {
      "text/plain": [
       "{'name': 'spongebob', 'fullname': 'Spongebob Squarepants'}"
      ]
     },
     "execution_count": 23,
     "metadata": {},
     "output_type": "execute_result"
    }
   ],
   "source": [
    "compiled.params"
   ]
  },
  {
   "cell_type": "code",
   "execution_count": 24,
   "id": "5a718cd4-c61c-4689-a00d-86d1d9c87eef",
   "metadata": {},
   "outputs": [
    {
     "data": {
      "text/plain": [
       "'INSERT INTO user_account (name, fullname) VALUES (:name, :fullname)'"
      ]
     },
     "execution_count": 24,
     "metadata": {},
     "output_type": "execute_result"
    }
   ],
   "source": [
    "compiled.string"
   ]
  },
  {
   "cell_type": "code",
   "execution_count": 25,
   "id": "f35ea97c-7a21-482a-bb29-e091999f4ef5",
   "metadata": {},
   "outputs": [
    {
     "name": "stdout",
     "output_type": "stream",
     "text": [
      "2024-06-30 16:05:28,771 INFO sqlalchemy.engine.Engine BEGIN (implicit)\n",
      "2024-06-30 16:05:28,772 INFO sqlalchemy.engine.Engine INSERT INTO user_account (name, fullname) VALUES (?, ?)\n",
      "2024-06-30 16:05:28,773 INFO sqlalchemy.engine.Engine [generated in 0.00162s] ('spongebob', 'Spongebob Squarepants')\n",
      "2024-06-30 16:05:28,774 INFO sqlalchemy.engine.Engine COMMIT\n"
     ]
    }
   ],
   "source": [
    "with engine.connect() as conn:\n",
    "    result = conn.execute(stmt)\n",
    "    conn.commit()"
   ]
  },
  {
   "cell_type": "markdown",
   "id": "1fb2674f-0043-4ec2-a3d1-8c5994dc99f8",
   "metadata": {},
   "source": [
    "INSERT 语句不返回任何行，如果只插入一行，它通常会包含返回有关在插入该行期间生成的列级默认值的信息的能力，最常见的是整数主键值。在上面的情况下，SQLite 数据库中的第一行通常会为第一个整数主键值返回 1"
   ]
  },
  {
   "cell_type": "code",
   "execution_count": 26,
   "id": "2668ceb7-59a6-4153-824d-59a60d2efa16",
   "metadata": {},
   "outputs": [
    {
     "data": {
      "text/plain": [
       "(1,)"
      ]
     },
     "execution_count": 26,
     "metadata": {},
     "output_type": "execute_result"
    }
   ],
   "source": [
    "result.inserted_primary_key"
   ]
  },
  {
   "cell_type": "code",
   "execution_count": 27,
   "id": "2381b4f1-6492-42a7-9654-1cb6b5abf01e",
   "metadata": {},
   "outputs": [
    {
     "name": "stdout",
     "output_type": "stream",
     "text": [
      "INSERT INTO user_account (id, name, fullname) VALUES (:id, :name, :fullname)\n"
     ]
    }
   ],
   "source": [
    "print(insert(user_table)) # 自动生成values子句"
   ]
  },
  {
   "cell_type": "code",
   "execution_count": 28,
   "id": "46a3cc6a-867d-47f9-b9eb-70e4cc35c4de",
   "metadata": {},
   "outputs": [
    {
     "name": "stdout",
     "output_type": "stream",
     "text": [
      "2024-06-30 16:05:31,240 INFO sqlalchemy.engine.Engine BEGIN (implicit)\n",
      "2024-06-30 16:05:31,242 INFO sqlalchemy.engine.Engine INSERT INTO user_account (name, fullname) VALUES (?, ?)\n",
      "2024-06-30 16:05:31,243 INFO sqlalchemy.engine.Engine [generated in 0.00252s] [('sandy', 'Sandy Cheeks'), ('patrick', 'Patrick Star')]\n",
      "2024-06-30 16:05:31,244 INFO sqlalchemy.engine.Engine COMMIT\n"
     ]
    }
   ],
   "source": [
    "with engine.connect() as conn:\n",
    "    result = conn.execute(\n",
    "        insert(user_table),\n",
    "        [\n",
    "            {\"name\": \"sandy\", \"fullname\": \"Sandy Cheeks\"},\n",
    "            {\"name\": \"patrick\", \"fullname\": \"Patrick Star\"},\n",
    "        ],\n",
    "    )\n",
    "    conn.commit()"
   ]
  },
  {
   "cell_type": "code",
   "execution_count": 29,
   "id": "733e1b42-e67f-40f2-be0d-ef12a5b4c270",
   "metadata": {},
   "outputs": [
    {
     "name": "stdout",
     "output_type": "stream",
     "text": [
      "INSERT INTO user_account DEFAULT VALUES\n"
     ]
    }
   ],
   "source": [
    "#如果我们指示Insert.values()不带任何参数，则会生成一个真正的“空”INSERT，它只插入表的“默认值”，而不包含任何显式值\n",
    "print(insert(user_table).values().compile(engine))"
   ]
  },
  {
   "cell_type": "code",
   "execution_count": 30,
   "id": "5cf9afb8-af72-444b-a5e9-d911417b0a2e",
   "metadata": {},
   "outputs": [
    {
     "name": "stdout",
     "output_type": "stream",
     "text": [
      "INSERT INTO address (id, user_id, email_address) VALUES (:id, :user_id, :email_address) RETURNING address.id, address.email_address\n"
     ]
    }
   ],
   "source": [
    "insert_stmt = insert(address_table).returning(\n",
    "    address_table.c.id, address_table.c.email_address\n",
    ")\n",
    "print(insert_stmt)"
   ]
  },
  {
   "cell_type": "code",
   "execution_count": 31,
   "id": "bac81118-c3ca-4b2f-9fbe-69cf4a142bb9",
   "metadata": {},
   "outputs": [
    {
     "name": "stdout",
     "output_type": "stream",
     "text": [
      "INSERT INTO address (user_id, email_address) SELECT user_account.id, user_account.name || :name_1 AS anon_1 \n",
      "FROM user_account RETURNING address.id, address.email_address\n"
     ]
    }
   ],
   "source": [
    "# 基于 INSERT…FROM SELECT \n",
    "select_stmt = select(user_table.c.id, user_table.c.name + \"@aol.com\")\n",
    "insert_stmt = insert(address_table).from_select(\n",
    "    [\"user_id\", \"email_address\"], select_stmt\n",
    ")\n",
    "print(insert_stmt.returning(address_table.c.id, address_table.c.email_address))"
   ]
  },
  {
   "cell_type": "markdown",
   "id": "24b13e3d-2ca0-41fe-bf82-393d86075050",
   "metadata": {},
   "source": [
    "### SELECT"
   ]
  },
  {
   "cell_type": "code",
   "execution_count": 35,
   "id": "f46e7a58-598b-4b37-9add-2d7c00e7b857",
   "metadata": {},
   "outputs": [
    {
     "name": "stdout",
     "output_type": "stream",
     "text": [
      "SELECT user_account.id, user_account.name, user_account.fullname \n",
      "FROM user_account \n",
      "WHERE user_account.name = :name_1\n"
     ]
    }
   ],
   "source": [
    "from sqlalchemy import select\n",
    "stmt = select(user_table).where(user_table.c.name == \"spongebob\")\n",
    "print(stmt)"
   ]
  },
  {
   "cell_type": "code",
   "execution_count": 36,
   "id": "a0735959-f694-4194-9c92-5285f2b2ea68",
   "metadata": {},
   "outputs": [
    {
     "name": "stdout",
     "output_type": "stream",
     "text": [
      "2024-06-30 16:06:21,846 INFO sqlalchemy.engine.Engine BEGIN (implicit)\n",
      "2024-06-30 16:06:21,847 INFO sqlalchemy.engine.Engine SELECT user_account.id, user_account.name, user_account.fullname \n",
      "FROM user_account \n",
      "WHERE user_account.name = ?\n",
      "2024-06-30 16:06:21,848 INFO sqlalchemy.engine.Engine [generated in 0.00151s] ('spongebob',)\n",
      "(1, 'spongebob', 'Spongebob Squarepants')\n",
      "2024-06-30 16:06:21,849 INFO sqlalchemy.engine.Engine ROLLBACK\n"
     ]
    }
   ],
   "source": [
    "with engine.connect() as conn:\n",
    "    for row in conn.execute(stmt):\n",
    "        print(row)"
   ]
  },
  {
   "cell_type": "markdown",
   "id": "56ebad2d-a483-4579-b044-4a0c896b1ac3",
   "metadata": {},
   "source": [
    "在使用 ORM 时，特别是使用针对 ORM 实体构建的 select() 构造时，我们希望使用 Session.execute() 方法在 Session 上执行它；\n",
    "\n",
    "使用这种方法，我们继续从结果中获取 Row 对象，但是这些行现在能够包含完整的实体，例如 User 类的实例，作为每行中的单个元素"
   ]
  },
  {
   "cell_type": "code",
   "execution_count": 37,
   "id": "a843d331-da53-40ae-9f7a-ffebd41c6bb4",
   "metadata": {},
   "outputs": [
    {
     "name": "stdout",
     "output_type": "stream",
     "text": [
      "2024-06-30 16:06:23,289 INFO sqlalchemy.engine.Engine BEGIN (implicit)\n",
      "2024-06-30 16:06:23,291 INFO sqlalchemy.engine.Engine SELECT user_account.id, user_account.name, user_account.fullname \n",
      "FROM user_account \n",
      "WHERE user_account.name = ?\n",
      "2024-06-30 16:06:23,292 INFO sqlalchemy.engine.Engine [generated in 0.00091s] ('spongebob',)\n",
      "(User(id=1, name='spongebob', fullname='Spongebob Squarepants'),)\n",
      "2024-06-30 16:06:23,294 INFO sqlalchemy.engine.Engine ROLLBACK\n"
     ]
    }
   ],
   "source": [
    "stmt = select(User).where(User.name == \"spongebob\")\n",
    "with Session(engine) as session:\n",
    "    for row in session.execute(stmt):\n",
    "        print(row)"
   ]
  },
  {
   "cell_type": "code",
   "execution_count": 38,
   "id": "680844d8-93b5-4d54-b6b3-5faf5a4040d1",
   "metadata": {},
   "outputs": [
    {
     "name": "stdout",
     "output_type": "stream",
     "text": [
      "SELECT user_account.name, user_account.fullname \n",
      "FROM user_account\n",
      "SELECT user_account.id, user_account.name, user_account.fullname \n",
      "FROM user_account\n",
      "SELECT user_account.name, user_account.fullname \n",
      "FROM user_account\n",
      "SELECT user_account.id, user_account.name, user_account.fullname \n",
      "FROM user_account\n",
      "SELECT user_account.name, user_account.fullname \n",
      "FROM user_account\n"
     ]
    }
   ],
   "source": [
    "print(select(user_table.c.name, user_table.c.fullname))\n",
    "print(select(user_table))\n",
    "print(select(user_table.c[\"name\", \"fullname\"]))\n",
    "print(select(User))\n",
    "print(select(User.name, User.fullname))"
   ]
  },
  {
   "cell_type": "code",
   "execution_count": 39,
   "id": "04ad0c8e-7cac-49d9-9421-438ee47791a0",
   "metadata": {},
   "outputs": [
    {
     "name": "stdout",
     "output_type": "stream",
     "text": [
      "2024-06-30 16:06:24,995 INFO sqlalchemy.engine.Engine BEGIN (implicit)\n",
      "2024-06-30 16:06:24,996 INFO sqlalchemy.engine.Engine SELECT user_account.id, user_account.name, user_account.fullname \n",
      "FROM user_account\n",
      "2024-06-30 16:06:24,997 INFO sqlalchemy.engine.Engine [generated in 0.00079s] ()\n"
     ]
    },
    {
     "data": {
      "text/plain": [
       "(User(id=1, name='spongebob', fullname='Spongebob Squarepants'),)"
      ]
     },
     "execution_count": 39,
     "metadata": {},
     "output_type": "execute_result"
    }
   ],
   "source": [
    "row = session.execute(select(User)).first()\n",
    "row"
   ]
  },
  {
   "cell_type": "code",
   "execution_count": 40,
   "id": "594d04bf-2cd1-4cea-865c-d0ae47630ce2",
   "metadata": {},
   "outputs": [
    {
     "name": "stdout",
     "output_type": "stream",
     "text": [
      "2024-06-30 16:06:26,360 INFO sqlalchemy.engine.Engine SELECT user_account.id, user_account.name, user_account.fullname \n",
      "FROM user_account\n",
      "2024-06-30 16:06:26,361 INFO sqlalchemy.engine.Engine [cached since 1.364s ago] ()\n"
     ]
    },
    {
     "data": {
      "text/plain": [
       "User(id=1, name='spongebob', fullname='Spongebob Squarepants')"
      ]
     },
     "execution_count": 40,
     "metadata": {},
     "output_type": "execute_result"
    }
   ],
   "source": [
    "user = session.scalars(select(User)).first() #直接执行语句\n",
    "user"
   ]
  },
  {
   "cell_type": "code",
   "execution_count": 41,
   "id": "ccd183c8-6a1f-4cb1-98cf-902e7d75302a",
   "metadata": {},
   "outputs": [
    {
     "name": "stdout",
     "output_type": "stream",
     "text": [
      "2024-06-30 16:06:26,882 INFO sqlalchemy.engine.Engine SELECT user_account.name, user_account.fullname \n",
      "FROM user_account\n",
      "2024-06-30 16:06:26,884 INFO sqlalchemy.engine.Engine [generated in 0.00097s] ()\n"
     ]
    },
    {
     "data": {
      "text/plain": [
       "('spongebob', 'Spongebob Squarepants')"
      ]
     },
     "execution_count": 41,
     "metadata": {},
     "output_type": "execute_result"
    }
   ],
   "source": [
    "row = session.execute(select(User.name, User.fullname)).first()\n",
    "row"
   ]
  },
  {
   "cell_type": "code",
   "execution_count": 42,
   "id": "90d328a8-52cb-4dd5-818d-3c8f0e9a3bcc",
   "metadata": {},
   "outputs": [
    {
     "name": "stdout",
     "output_type": "stream",
     "text": [
      "2024-06-30 16:06:28,651 INFO sqlalchemy.engine.Engine SELECT user_account.name, address.id, address.email_address, address.user_id \n",
      "FROM user_account, address \n",
      "WHERE user_account.id = address.user_id ORDER BY address.id\n",
      "2024-06-30 16:06:28,652 INFO sqlalchemy.engine.Engine [generated in 0.00103s] ()\n"
     ]
    },
    {
     "data": {
      "text/plain": [
       "[]"
      ]
     },
     "execution_count": 42,
     "metadata": {},
     "output_type": "execute_result"
    }
   ],
   "source": [
    "session.execute(\n",
    "    select(User.name, Address).where(User.id == Address.user_id).order_by(Address.id)\n",
    ").all()"
   ]
  },
  {
   "cell_type": "code",
   "execution_count": 43,
   "id": "e6f086eb-7d61-47af-b828-3c110371e4c5",
   "metadata": {},
   "outputs": [
    {
     "name": "stdout",
     "output_type": "stream",
     "text": [
      "2024-06-30 16:06:31,927 INFO sqlalchemy.engine.Engine BEGIN (implicit)\n",
      "2024-06-30 16:06:31,928 INFO sqlalchemy.engine.Engine SELECT ? || user_account.name AS username \n",
      "FROM user_account ORDER BY user_account.name\n",
      "2024-06-30 16:06:31,929 INFO sqlalchemy.engine.Engine [generated in 0.00151s] ('Username: ',)\n",
      "Username: patrick\n",
      "Username: sandy\n",
      "Username: spongebob\n",
      "2024-06-30 16:06:31,930 INFO sqlalchemy.engine.Engine ROLLBACK\n"
     ]
    }
   ],
   "source": [
    "from sqlalchemy import func, cast\n",
    "stmt = select(\n",
    "    (\"Username: \" + user_table.c.name).label(\"username\"),\n",
    ").order_by(user_table.c.name)\n",
    "with engine.connect() as conn:\n",
    "    for row in conn.execute(stmt):\n",
    "        print(f\"{row.username}\")"
   ]
  },
  {
   "cell_type": "code",
   "execution_count": 44,
   "id": "84dc0b68-75aa-4660-9221-12d38a49fe73",
   "metadata": {},
   "outputs": [
    {
     "name": "stdout",
     "output_type": "stream",
     "text": [
      "2024-06-30 16:06:32,932 INFO sqlalchemy.engine.Engine BEGIN (implicit)\n",
      "2024-06-30 16:06:32,933 INFO sqlalchemy.engine.Engine SELECT 'some phrase', user_account.name \n",
      "FROM user_account ORDER BY user_account.name\n",
      "2024-06-30 16:06:32,934 INFO sqlalchemy.engine.Engine [generated in 0.00178s] ()\n",
      "[('some phrase', 'patrick'), ('some phrase', 'sandy'), ('some phrase', 'spongebob')]\n",
      "2024-06-30 16:06:32,935 INFO sqlalchemy.engine.Engine ROLLBACK\n"
     ]
    }
   ],
   "source": [
    "from sqlalchemy import text\n",
    "stmt = select(text(\"'some phrase'\"), user_table.c.name).order_by(user_table.c.name)\n",
    "with engine.connect() as conn:\n",
    "    print(conn.execute(stmt).all())"
   ]
  },
  {
   "cell_type": "code",
   "execution_count": 45,
   "id": "b2e9fc1c-1d9b-46ff-992f-065c46122340",
   "metadata": {},
   "outputs": [
    {
     "name": "stdout",
     "output_type": "stream",
     "text": [
      "2024-06-30 16:06:33,780 INFO sqlalchemy.engine.Engine BEGIN (implicit)\n",
      "2024-06-30 16:06:33,781 INFO sqlalchemy.engine.Engine SELECT 'some phrase' AS p, user_account.name \n",
      "FROM user_account ORDER BY user_account.name\n",
      "2024-06-30 16:06:33,781 INFO sqlalchemy.engine.Engine [generated in 0.00160s] ()\n",
      "some phrase, patrick\n",
      "some phrase, sandy\n",
      "some phrase, spongebob\n",
      "2024-06-30 16:06:33,783 INFO sqlalchemy.engine.Engine ROLLBACK\n"
     ]
    }
   ],
   "source": [
    "from sqlalchemy import literal_column\n",
    "stmt = select(literal_column(\"'some phrase'\").label(\"p\"), user_table.c.name).order_by(\n",
    "    user_table.c.name\n",
    ")\n",
    "with engine.connect() as conn:\n",
    "    for row in conn.execute(stmt):\n",
    "        print(f\"{row.p}, {row.name}\")"
   ]
  },
  {
   "cell_type": "code",
   "execution_count": 46,
   "id": "e1522003-5da0-47d6-bcc7-a1ef205852d5",
   "metadata": {},
   "outputs": [
    {
     "name": "stdout",
     "output_type": "stream",
     "text": [
      "user_account.name = :name_1\n",
      "address.user_id > :user_id_1\n",
      "SELECT user_account.id, user_account.name, user_account.fullname \n",
      "FROM user_account \n",
      "WHERE user_account.name = :name_1\n",
      "SELECT address.email_address \n",
      "FROM address, user_account \n",
      "WHERE user_account.name = :name_1 AND address.user_id = user_account.id\n",
      "SELECT address.email_address \n",
      "FROM address, user_account \n",
      "WHERE user_account.name = :name_1 AND address.user_id = user_account.id\n",
      "SELECT address.email_address \n",
      "FROM address, user_account \n",
      "WHERE (user_account.name = :name_1 OR user_account.name = :name_2) AND address.user_id = user_account.id\n",
      "SELECT user_account.id, user_account.name, user_account.fullname \n",
      "FROM user_account \n",
      "WHERE user_account.name = :name_1 AND user_account.fullname = :fullname_1\n"
     ]
    }
   ],
   "source": [
    "print(user_table.c.name == \"squidward\")\n",
    "\n",
    "print(address_table.c.user_id > 10)\n",
    "print(select(user_table).where(user_table.c.name == \"squidward\"))\n",
    "print(\n",
    "    select(address_table.c.email_address)\n",
    "    .where(user_table.c.name == \"squidward\")\n",
    "    .where(address_table.c.user_id == user_table.c.id)\n",
    ")\n",
    "print(\n",
    "    select(address_table.c.email_address).where(\n",
    "        user_table.c.name == \"squidward\",\n",
    "        address_table.c.user_id == user_table.c.id,\n",
    "    )\n",
    ")\n",
    "from sqlalchemy import and_, or_\n",
    "print(\n",
    "    select(Address.email_address).where(\n",
    "        and_(\n",
    "            or_(User.name == \"squidward\", User.name == \"sandy\"),\n",
    "            Address.user_id == User.id,\n",
    "        )\n",
    "    )\n",
    ")\n",
    "print(select(User).filter_by(name=\"spongebob\", fullname=\"Spongebob Squarepants\"))"
   ]
  },
  {
   "cell_type": "code",
   "execution_count": 47,
   "id": "946287d0-fc92-41d3-b1b0-b95ae1aa40d9",
   "metadata": {},
   "outputs": [
    {
     "name": "stdout",
     "output_type": "stream",
     "text": [
      "SELECT user_account.name, address.email_address \n",
      "FROM user_account, address\n",
      "SELECT user_account.name, address.email_address \n",
      "FROM user_account JOIN address ON user_account.id = address.user_id\n",
      "SELECT user_account.name, address.email_address \n",
      "FROM user_account JOIN address ON user_account.id = address.user_id\n",
      "SELECT address.email_address \n",
      "FROM user_account JOIN address ON user_account.id = address.user_id\n",
      "SELECT count(:count_2) AS count_1 \n",
      "FROM user_account\n",
      "SELECT address.email_address \n",
      "FROM user_account JOIN address ON user_account.id = address.user_id\n"
     ]
    }
   ],
   "source": [
    "print(select(user_table.c.name, address_table.c.email_address))\n",
    "# ON 子句是推断出来的。\n",
    "print(\n",
    "    select(user_table.c.name, address_table.c.email_address).join_from(\n",
    "        user_table, address_table\n",
    "    )\n",
    ")\n",
    "print(select(user_table.c.name, address_table.c.email_address).join(address_table))\n",
    "print(select(address_table.c.email_address).select_from(user_table).join(address_table))\n",
    "from sqlalchemy import func\n",
    "print(select(func.count(\"*\")).select_from(user_table))\n",
    "print(\n",
    "    select(address_table.c.email_address)\n",
    "    .select_from(user_table)\n",
    "    .join(address_table, user_table.c.id == address_table.c.user_id)\n",
    ")"
   ]
  },
  {
   "cell_type": "code",
   "execution_count": 48,
   "id": "8fed060b-0a86-4247-8959-c8573864dcbb",
   "metadata": {},
   "outputs": [
    {
     "name": "stdout",
     "output_type": "stream",
     "text": [
      "SELECT user_account.id, user_account.name, user_account.fullname \n",
      "FROM user_account LEFT OUTER JOIN address ON user_account.id = address.user_id\n",
      "SELECT user_account.id, user_account.name, user_account.fullname \n",
      "FROM user_account FULL OUTER JOIN address ON user_account.id = address.user_id\n"
     ]
    }
   ],
   "source": [
    "print(select(user_table).join(address_table, isouter=True)) # 外连接\n",
    "print(select(user_table).join(address_table, full=True)) # 全连接"
   ]
  },
  {
   "cell_type": "code",
   "execution_count": 49,
   "id": "7ff148b1-9885-454b-b93e-39aea10f0f21",
   "metadata": {},
   "outputs": [
    {
     "name": "stdout",
     "output_type": "stream",
     "text": [
      "SELECT user_account.id, user_account.name, user_account.fullname \n",
      "FROM user_account ORDER BY user_account.name\n",
      "SELECT user_account.id, user_account.name, user_account.fullname \n",
      "FROM user_account ORDER BY user_account.fullname DESC\n",
      "count(user_account.id)\n"
     ]
    }
   ],
   "source": [
    "print(select(user_table).order_by(user_table.c.name))\n",
    "print(select(User).order_by(User.fullname.desc()))\n",
    "\n",
    "from sqlalchemy import func\n",
    "count_fn = func.count(user_table.c.id)\n",
    "print(count_fn)"
   ]
  },
  {
   "cell_type": "code",
   "execution_count": 50,
   "id": "380fa52c-60f7-44d5-bf15-e2bb7c8bbc05",
   "metadata": {},
   "outputs": [
    {
     "name": "stdout",
     "output_type": "stream",
     "text": [
      "2024-06-30 16:06:39,600 INFO sqlalchemy.engine.Engine BEGIN (implicit)\n",
      "2024-06-30 16:06:39,601 INFO sqlalchemy.engine.Engine SELECT user_account.name, count(address.id) AS count \n",
      "FROM user_account JOIN address ON user_account.id = address.user_id GROUP BY user_account.name \n",
      "HAVING count(address.id) > ?\n",
      "2024-06-30 16:06:39,601 INFO sqlalchemy.engine.Engine [generated in 0.00164s] (1,)\n",
      "[]\n",
      "2024-06-30 16:06:39,603 INFO sqlalchemy.engine.Engine ROLLBACK\n"
     ]
    }
   ],
   "source": [
    "with engine.connect() as conn:\n",
    "    result = conn.execute(\n",
    "        select(User.name, func.count(Address.id).label(\"count\"))\n",
    "        .join(Address)\n",
    "        .group_by(User.name)\n",
    "        .having(func.count(Address.id) > 1)\n",
    "    )\n",
    "    print(result.all())"
   ]
  },
  {
   "cell_type": "code",
   "execution_count": 51,
   "id": "cbf2ee75-eac1-4b05-a58c-b452ddced369",
   "metadata": {},
   "outputs": [
    {
     "name": "stdout",
     "output_type": "stream",
     "text": [
      "SELECT address.user_id, count(address.id) AS num_addresses \n",
      "FROM address GROUP BY address.user_id ORDER BY address.user_id, num_addresses DESC\n"
     ]
    }
   ],
   "source": [
    "from sqlalchemy import func, desc\n",
    "stmt = (\n",
    "    select(Address.user_id, func.count(Address.id).label(\"num_addresses\"))\n",
    "    .group_by(\"user_id\")\n",
    "    .order_by(\"user_id\", desc(\"num_addresses\"))\n",
    ")\n",
    "print(stmt)"
   ]
  },
  {
   "cell_type": "code",
   "execution_count": 52,
   "id": "f91e9ed1-2734-4598-91c5-92e7dfedaae3",
   "metadata": {},
   "outputs": [
    {
     "name": "stdout",
     "output_type": "stream",
     "text": [
      "SELECT user_account_1.name, user_account_2.name AS name_1 \n",
      "FROM user_account AS user_account_1 JOIN user_account AS user_account_2 ON user_account_1.id > user_account_2.id\n"
     ]
    }
   ],
   "source": [
    "user_alias_1 = user_table.alias()\n",
    "user_alias_2 = user_table.alias()\n",
    "print(\n",
    "    select(user_alias_1.c.name, user_alias_2.c.name).join_from(\n",
    "        user_alias_1, user_alias_2, user_alias_1.c.id > user_alias_2.c.id\n",
    "    )\n",
    ")"
   ]
  },
  {
   "cell_type": "code",
   "execution_count": 53,
   "id": "815df5d3-85ac-4395-a844-0eb63e4b2205",
   "metadata": {},
   "outputs": [
    {
     "name": "stdout",
     "output_type": "stream",
     "text": [
      "SELECT user_account.id, user_account.name, user_account.fullname \n",
      "FROM user_account JOIN address AS address_1 ON user_account.id = address_1.user_id JOIN address AS address_2 ON user_account.id = address_2.user_id \n",
      "WHERE address_1.email_address = :email_address_1 AND address_2.email_address = :email_address_2\n"
     ]
    }
   ],
   "source": [
    "# ORM 实体别名\n",
    "from sqlalchemy.orm import aliased\n",
    "address_alias_1 = aliased(Address)\n",
    "address_alias_2 = aliased(Address)\n",
    "print(\n",
    "    select(User)\n",
    "    .join_from(User, address_alias_1)\n",
    "    .where(address_alias_1.email_address == \"patrick@aol.com\")\n",
    "    .join_from(User, address_alias_2)\n",
    "    .where(address_alias_2.email_address == \"patrick@gmail.com\")\n",
    ")"
   ]
  },
  {
   "cell_type": "code",
   "execution_count": 54,
   "id": "356dc44a-8ca6-4115-a590-9cd34a73a4a2",
   "metadata": {},
   "outputs": [
    {
     "name": "stdout",
     "output_type": "stream",
     "text": [
      "SELECT count(address.id) AS count, address.user_id \n",
      "FROM address GROUP BY address.user_id\n"
     ]
    }
   ],
   "source": [
    "subq = (\n",
    "    select(func.count(address_table.c.id).label(\"count\"), address_table.c.user_id)\n",
    "    .group_by(address_table.c.user_id)\n",
    "    .subquery()\n",
    ")\n",
    "print(subq)"
   ]
  }
 ],
 "metadata": {
  "kernelspec": {
   "display_name": "Python 3 (ipykernel)",
   "language": "python",
   "name": "python3"
  },
  "language_info": {
   "codemirror_mode": {
    "name": "ipython",
    "version": 3
   },
   "file_extension": ".py",
   "mimetype": "text/x-python",
   "name": "python",
   "nbconvert_exporter": "python",
   "pygments_lexer": "ipython3",
   "version": "3.11.5"
  }
 },
 "nbformat": 4,
 "nbformat_minor": 5
}
