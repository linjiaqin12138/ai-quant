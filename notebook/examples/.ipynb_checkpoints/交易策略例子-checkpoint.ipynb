{
 "cells": [
  {
   "cell_type": "code",
   "execution_count": 2,
   "id": "34ce358a-a318-42c1-9a74-e18202de455b",
   "metadata": {},
   "outputs": [],
   "source": [
    "from lib.modules.strategy import StrategyBase"
   ]
  },
  {
   "cell_type": "markdown",
   "id": "36efe5b0-f0d8-4272-a50d-ae4459a0ed4e",
   "metadata": {},
   "source": [
    "# 比特币每回撤10%就投入买入200USDT，最终受益多少"
   ]
  },
  {
   "cell_type": "code",
   "execution_count": null,
   "id": "551a37e1-a99d-4cfe-a6c8-8a2ec4dd5558",
   "metadata": {},
   "outputs": [],
   "source": [
    "class BTCSimpleStrategy(StrategyBase):\n",
    "    # 基本默认值\n",
    "    def _core(self, ohlcv_list):\n",
    "        "
   ]
  }
 ],
 "metadata": {
  "kernelspec": {
   "display_name": "Python 3 (ipykernel)",
   "language": "python",
   "name": "python3"
  },
  "language_info": {
   "codemirror_mode": {
    "name": "ipython",
    "version": 3
   },
   "file_extension": ".py",
   "mimetype": "text/x-python",
   "name": "python",
   "nbconvert_exporter": "python",
   "pygments_lexer": "ipython3",
   "version": "3.12.3"
  }
 },
 "nbformat": 4,
 "nbformat_minor": 5
}
