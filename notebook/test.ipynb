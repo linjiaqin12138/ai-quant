{
 "cells": [
  {
   "cell_type": "code",
   "execution_count": 1,
   "id": "b1f1e8f3-9ed3-475c-a2d9-e3055347e822",
   "metadata": {},
   "outputs": [],
   "source": [
    "import sys, os\n",
    "sys.path.append(os.path.join(os.getcwd(), '..'))"
   ]
  },
  {
   "cell_type": "code",
   "execution_count": 2,
   "id": "86791099-096d-445e-aaaa-e2d68b148b62",
   "metadata": {},
   "outputs": [],
   "source": [
    "import talib"
   ]
  },
  {
   "cell_type": "code",
   "execution_count": 3,
   "id": "dad8cdbc-7995-40ef-ad17-38bfd287e9f3",
   "metadata": {},
   "outputs": [],
   "source": [
    "from src.dao import event\n",
    "from src.dao.data_query import get_ohclv, get_all_pairs\n",
    "from src.utils.logger import logger\n"
   ]
  },
  {
   "cell_type": "markdown",
   "id": "22691952-2053-4d99-a11f-4666b0ab3c4b",
   "metadata": {},
   "source": [
    "# 查询过去两天内出现MACD金叉的加密货币加密对\n"
   ]
  },
  {
   "cell_type": "code",
   "execution_count": 4,
   "id": "ce287b42-ac9d-4700-b01d-f99283d1c7a1",
   "metadata": {},
   "outputs": [],
   "source": [
    "all_pairs = list(filter(lambda pair: pair.endswith('USDT'), get_all_pairs()))"
   ]
  },
  {
   "cell_type": "code",
   "execution_count": 5,
   "id": "33797501-c6d7-434b-8059-4bd5acd2f5fa",
   "metadata": {},
   "outputs": [
    {
     "name": "stdout",
     "output_type": "stream",
     "text": [
      "BCC/USDT 在过去二天出现了金叉\n",
      "BTT/USDT 在过去二天出现了金叉\n",
      "PERL/USDT 在过去一天出现了金叉\n",
      "CHZ/USDT 在过去一天出现了金叉\n",
      "BTS/USDT 在过去一天出现了金叉\n",
      "STORJ/USDT 在过去一天出现了金叉\n",
      "LTCUP/USDT 在过去一天出现了金叉\n",
      "UTK/USDT 在过去一天出现了金叉\n",
      "SUSHIUP/USDT 在过去一天出现了金叉\n",
      "CFX/USDT 在过去二天出现了金叉\n",
      "BAR/USDT 在过去一天出现了金叉\n",
      "ICP/USDT 在过去一天出现了金叉\n",
      "AUCTION/USDT 在过去一天出现了金叉\n",
      "PLA/USDT 在过去一天出现了金叉\n",
      "ANC/USDT 在过去一天出现了金叉\n",
      "MAGIC/USDT 在过去二天出现了金叉\n",
      "PROM/USDT 在过去二天出现了金叉\n",
      "MAV/USDT 在过去一天出现了金叉\n",
      "ACE/USDT 在过去一天出现了金叉\n",
      "PIXEL/USDT 在过去一天出现了金叉\n",
      "BOME/USDT 在过去一天出现了金叉\n"
     ]
    }
   ],
   "source": [
    "for pair in all_pairs:\n",
    "    if pair == 'NBTUSDT':\n",
    "        continue\n",
    "    \n",
    "    logger.info(f'Query {pair} in 100 days')\n",
    "    df = get_ohclv(pair, '1d', limit=100)\n",
    "    # print(f'==============={pair}================')\n",
    "    df['macd'], df['macdSignal'], df['macdHist'] = talib.MACD(df['close'])\n",
    "    if df['macdHist'].iloc[-2] < 0 and df['macdHist'].iloc[-1] >= 0:\n",
    "        print(f'{pair} 在过去一天出现了金叉')\n",
    "    if df['macdHist'].iloc[-3] < 0 and df['macdHist'].iloc[-2] >= 0:\n",
    "        print(f'{pair} 在过去二天出现了金叉')\n",
    "    # for i in range(len(df)):\n",
    "    #     if df['macd'].iloc[i-1] < df['macdSignal'].iloc[i-1] and df['macd'].iloc[i] >= df['macdSignal'].iloc[i]:\n",
    "    #         print(f\"{pair} 金叉出现日: {df['timestamp'].iloc[i]}\")\n",
    "    # if df['macdHist'].iloc[-3] < df['macdHist'].iloc[-2] and df['macdHist'].iloc[-2] < df['macdHist'].iloc[-1]:\n",
    "    #     print(f'{pair} 最近连续三天趋势增强')\n",
    "    "
   ]
  },
  {
   "cell_type": "code",
   "execution_count": 12,
   "id": "8e604949-18be-454a-b04b-77ae528e283b",
   "metadata": {},
   "outputs": [
    {
     "name": "stdout",
     "output_type": "stream",
     "text": [
      "NBTUSDT\n"
     ]
    }
   ],
   "source": [
    "for pair in all_pairs:\n",
    "    if pair.startswith('NBT'):\n",
    "        print(pair)"
   ]
  },
  {
   "cell_type": "code",
   "execution_count": 18,
   "id": "8d2fea5d-3f69-4c74-a3bd-22b328cda8f9",
   "metadata": {},
   "outputs": [
    {
     "data": {
      "text/plain": [
       "500"
      ]
     },
     "execution_count": 18,
     "metadata": {},
     "output_type": "execute_result"
    }
   ],
   "source": [
    "len(list(filter(lambda pair: pair.endswith('USDT'), keys)))"
   ]
  },
  {
   "cell_type": "code",
   "execution_count": 15,
   "id": "8af3beea-0ff4-4f49-97cb-db99598a74ee",
   "metadata": {},
   "outputs": [
    {
     "data": {
      "text/plain": [
       "True"
      ]
     },
     "execution_count": 15,
     "metadata": {},
     "output_type": "execute_result"
    }
   ],
   "source": [
    "'123123ww'.endswith('w')"
   ]
  },
  {
   "cell_type": "code",
   "execution_count": null,
   "id": "5dad04ba-52de-4761-9893-762bf54a64e2",
   "metadata": {},
   "outputs": [],
   "source": []
  }
 ],
 "metadata": {
  "kernelspec": {
   "display_name": "Python 3 (ipykernel)",
   "language": "python",
   "name": "python3"
  },
  "language_info": {
   "codemirror_mode": {
    "name": "ipython",
    "version": 3
   },
   "file_extension": ".py",
   "mimetype": "text/x-python",
   "name": "python",
   "nbconvert_exporter": "python",
   "pygments_lexer": "ipython3",
   "version": "3.11.6"
  }
 },
 "nbformat": 4,
 "nbformat_minor": 5
}
