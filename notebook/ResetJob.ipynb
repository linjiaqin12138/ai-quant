{
 "cells": [
  {
   "cell_type": "code",
   "execution_count": 1,
   "id": "33846df6-4138-4ab5-b0b1-a666537f76d6",
   "metadata": {},
   "outputs": [],
   "source": [
    "from lib.adapter.database.kv_store import KeyValueStore\n",
    "from lib.adapter.database.session import SqlAlchemySession"
   ]
  },
  {
   "cell_type": "code",
   "execution_count": 2,
   "id": "35f94de5-35e4-4056-8061-c3ca4be20d4a",
   "metadata": {},
   "outputs": [],
   "source": [
    "session = SqlAlchemySession()\n",
    "kv_store = KeyValueStore(session)"
   ]
  },
  {
   "cell_type": "code",
   "execution_count": 4,
   "id": "a43b33f5-d697-41dc-9f73-1c439cfd322a",
   "metadata": {},
   "outputs": [],
   "source": [
    "set_event('daily_turtle_trade_for_ETH/USDT', {\n",
    "    'initialMoney': 70, \n",
    "    'frame': '1d', \n",
    "    'holdMoney': 63.954359, \n",
    "    'roundNumber': 0, \n",
    "    'holdCoin': 0, \n",
    "    'initialCoin': 0.0225773, \n",
    "    'latestMaxPrice': -1, \n",
    "    'startTime': 1714885083.767042, \n",
    "    'stopDeclineRate': 10, \n",
    "    'maxRound': 2, \n",
    "    'minWindow': 20, \n",
    "    'maxWindow': 20\n",
    "})"
   ]
  },
  {
   "cell_type": "code",
   "execution_count": 3,
   "id": "3adcefa8-ad69-404e-8c4a-b66d4a44439c",
   "metadata": {},
   "outputs": [
    {
     "name": "stderr",
     "output_type": "stream",
     "text": [
      "2024-07-17 22:14:52,772 - DEBUG - SQL: select `key` from events where `key` like '%_TURTLE_PLAN_TURTLE_PLAN'\n",
      "2024-07-17 22:14:52,772 - DEBUG - params: None\n",
      "2024-07-17 22:14:52,877 - DEBUG - SQL: SELECT events.key, events.context, events.type \n",
      "FROM events \n",
      "WHERE events.key = :key_1\n",
      "2024-07-17 22:14:52,878 - DEBUG - params: {'key_1': 'BAKE/USDT_1h_20_TURTLE_PLAN_TURTLE_PLAN'}\n",
      "2024-07-17 22:14:52,982 - DEBUG - SQL: DELETE FROM events WHERE events.key = :key_1\n",
      "2024-07-17 22:14:52,982 - DEBUG - params: {'key_1': 'BAKE/USDT_1h_20_TURTLE_PLAN_TURTLE_PLAN'}\n",
      "2024-07-17 22:14:53,090 - DEBUG - SQL: SELECT events.key, events.context, events.type \n",
      "FROM events \n",
      "WHERE events.key = :key_1\n",
      "2024-07-17 22:14:53,090 - DEBUG - params: {'key_1': 'BAKE/USDT_1h_20_TURTLE_PLAN'}\n",
      "2024-07-17 22:14:53,201 - DEBUG - SQL: SELECT events.key, events.context, events.type \n",
      "FROM events \n",
      "WHERE events.key = :key_1\n",
      "2024-07-17 22:14:53,201 - DEBUG - params: {'key_1': 'BTC/USDT_1d_100_TURTLE_PLAN_TURTLE_PLAN'}\n",
      "2024-07-17 22:14:53,306 - DEBUG - SQL: DELETE FROM events WHERE events.key = :key_1\n",
      "2024-07-17 22:14:53,307 - DEBUG - params: {'key_1': 'BTC/USDT_1d_100_TURTLE_PLAN_TURTLE_PLAN'}\n",
      "2024-07-17 22:14:53,414 - DEBUG - SQL: SELECT events.key, events.context, events.type \n",
      "FROM events \n",
      "WHERE events.key = :key_1\n",
      "2024-07-17 22:14:53,414 - DEBUG - params: {'key_1': 'BTC/USDT_1d_100_TURTLE_PLAN'}\n",
      "2024-07-17 22:14:53,520 - DEBUG - SQL: SELECT events.key, events.context, events.type \n",
      "FROM events \n",
      "WHERE events.key = :key_1\n",
      "2024-07-17 22:14:53,520 - DEBUG - params: {'key_1': 'ETH/USDT_1d_100_TURTLE_PLAN_TURTLE_PLAN'}\n",
      "2024-07-17 22:14:53,630 - DEBUG - SQL: DELETE FROM events WHERE events.key = :key_1\n",
      "2024-07-17 22:14:53,631 - DEBUG - params: {'key_1': 'ETH/USDT_1d_100_TURTLE_PLAN_TURTLE_PLAN'}\n",
      "2024-07-17 22:14:53,744 - DEBUG - SQL: SELECT events.key, events.context, events.type \n",
      "FROM events \n",
      "WHERE events.key = :key_1\n",
      "2024-07-17 22:14:53,745 - DEBUG - params: {'key_1': 'ETH/USDT_1d_100_TURTLE_PLAN'}\n",
      "2024-07-17 22:14:53,855 - DEBUG - SQL: SELECT events.key, events.context, events.type \n",
      "FROM events \n",
      "WHERE events.key = :key_1\n",
      "2024-07-17 22:14:53,856 - DEBUG - params: {'key_1': 'FET/USDT_1h_20_TURTLE_PLAN_TURTLE_PLAN'}\n",
      "2024-07-17 22:14:53,960 - DEBUG - SQL: DELETE FROM events WHERE events.key = :key_1\n",
      "2024-07-17 22:14:53,961 - DEBUG - params: {'key_1': 'FET/USDT_1h_20_TURTLE_PLAN_TURTLE_PLAN'}\n",
      "2024-07-17 22:14:54,068 - DEBUG - SQL: SELECT events.key, events.context, events.type \n",
      "FROM events \n",
      "WHERE events.key = :key_1\n",
      "2024-07-17 22:14:54,069 - DEBUG - params: {'key_1': 'FET/USDT_1h_20_TURTLE_PLAN'}\n",
      "2024-07-17 22:14:54,174 - DEBUG - SQL: SELECT events.key, events.context, events.type \n",
      "FROM events \n",
      "WHERE events.key = :key_1\n",
      "2024-07-17 22:14:54,174 - DEBUG - params: {'key_1': 'HIGH/USDT_1h_20_TURTLE_PLAN_TURTLE_PLAN'}\n",
      "2024-07-17 22:14:54,280 - DEBUG - SQL: DELETE FROM events WHERE events.key = :key_1\n",
      "2024-07-17 22:14:54,281 - DEBUG - params: {'key_1': 'HIGH/USDT_1h_20_TURTLE_PLAN_TURTLE_PLAN'}\n",
      "2024-07-17 22:14:54,390 - DEBUG - SQL: SELECT events.key, events.context, events.type \n",
      "FROM events \n",
      "WHERE events.key = :key_1\n",
      "2024-07-17 22:14:54,391 - DEBUG - params: {'key_1': 'HIGH/USDT_1h_20_TURTLE_PLAN'}\n",
      "2024-07-17 22:14:54,497 - DEBUG - SQL: SELECT events.key, events.context, events.type \n",
      "FROM events \n",
      "WHERE events.key = :key_1\n",
      "2024-07-17 22:14:54,500 - DEBUG - params: {'key_1': 'MKR/USDT_1h_20_TURTLE_PLAN_TURTLE_PLAN'}\n",
      "2024-07-17 22:14:54,605 - DEBUG - SQL: DELETE FROM events WHERE events.key = :key_1\n",
      "2024-07-17 22:14:54,606 - DEBUG - params: {'key_1': 'MKR/USDT_1h_20_TURTLE_PLAN_TURTLE_PLAN'}\n",
      "2024-07-17 22:14:54,700 - DEBUG - SQL: SELECT events.key, events.context, events.type \n",
      "FROM events \n",
      "WHERE events.key = :key_1\n",
      "2024-07-17 22:14:54,700 - DEBUG - params: {'key_1': 'MKR/USDT_1h_20_TURTLE_PLAN'}\n",
      "2024-07-17 22:14:54,824 - DEBUG - SQL: SELECT events.key, events.context, events.type \n",
      "FROM events \n",
      "WHERE events.key = :key_1\n",
      "2024-07-17 22:14:54,825 - DEBUG - params: {'key_1': 'TRB/USDT_1h_20_TURTLE_PLAN_TURTLE_PLAN'}\n",
      "2024-07-17 22:14:54,919 - DEBUG - SQL: DELETE FROM events WHERE events.key = :key_1\n",
      "2024-07-17 22:14:54,919 - DEBUG - params: {'key_1': 'TRB/USDT_1h_20_TURTLE_PLAN_TURTLE_PLAN'}\n",
      "2024-07-17 22:14:55,035 - DEBUG - SQL: SELECT events.key, events.context, events.type \n",
      "FROM events \n",
      "WHERE events.key = :key_1\n",
      "2024-07-17 22:14:55,035 - DEBUG - params: {'key_1': 'TRB/USDT_1h_20_TURTLE_PLAN'}\n"
     ]
    }
   ],
   "source": [
    "with session:\n",
    "    keys = session.execute('select `key` from events where `key` like \\'%_TURTLE_PLAN_TURTLE_PLAN\\'')\n",
    "    for row in keys.rows:\n",
    "        event = kv_store.get(row.key)\n",
    "        kv_store.delete(row.key)\n",
    "        kv_store.set(row.key.replace('_TURTLE_PLAN_TURTLE_PLAN', '_TURTLE_PLAN'), event)\n",
    "\n",
    "    session.commit()"
   ]
  },
  {
   "cell_type": "code",
   "execution_count": 20,
   "id": "98cf383b-7352-4c52-b4a6-fcf541160ae7",
   "metadata": {},
   "outputs": [
    {
     "data": {
      "text/plain": [
       "'4545213'"
      ]
     },
     "execution_count": 20,
     "metadata": {},
     "output_type": "execute_result"
    }
   ],
   "source": [
    "'123123213'.replace('123', '45')"
   ]
  },
  {
   "cell_type": "code",
   "execution_count": null,
   "id": "ce7fcc27-7ac9-443d-a7a1-f178d3839cf3",
   "metadata": {},
   "outputs": [],
   "source": []
  }
 ],
 "metadata": {
  "kernelspec": {
   "display_name": "Python 3 (ipykernel)",
   "language": "python",
   "name": "python3"
  },
  "language_info": {
   "codemirror_mode": {
    "name": "ipython",
    "version": 3
   },
   "file_extension": ".py",
   "mimetype": "text/x-python",
   "name": "python",
   "nbconvert_exporter": "python",
   "pygments_lexer": "ipython3",
   "version": "3.11.5"
  }
 },
 "nbformat": 4,
 "nbformat_minor": 5
}
