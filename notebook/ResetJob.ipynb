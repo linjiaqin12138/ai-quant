{
 "cells": [
  {
   "cell_type": "code",
   "execution_count": 1,
   "id": "d5c6fda7-271b-432a-8e8b-c75334967527",
   "metadata": {},
   "outputs": [],
   "source": [
    "from lib.adapter.database.kv_store import KeyValueStore\n",
    "from lib.adapter.database.session import SqlAlchemySession\n",
    "from lib.utils.list import map_by\n",
    "from lib.utils.time import dt_to_ts\n",
    "\n",
    "from datetime import datetime"
   ]
  },
  {
   "cell_type": "code",
   "execution_count": 2,
   "id": "e761d8d5-7e58-49f6-8afc-aa71d62296c9",
   "metadata": {},
   "outputs": [],
   "source": [
    "def get_key(key: str):\n",
    "    with SqlAlchemySession() as sess:\n",
    "        return KeyValueStore(sess).get(key)\n",
    "\n",
    "def set_kv(key, val):\n",
    "    with SqlAlchemySession() as sess:\n",
    "        KeyValueStore(sess).set(key, val)\n",
    "        sess.commit()\n",
    "        return\n",
    "\n",
    "def delete_key(key):\n",
    "    with SqlAlchemySession() as sess:\n",
    "        KeyValueStore(sess).delete(key)\n",
    "        sess.commit()\n",
    "        return\n",
    "        \n",
    "def get_all_keys():\n",
    "    with SqlAlchemySession() as sess:\n",
    "        return map_by(sess.execute(\"select `key` from events\").rows, lambda x:x[0])"
   ]
  },
  {
   "cell_type": "code",
   "execution_count": null,
   "id": "537cb3de-a224-4cd1-b89b-a5452c9304fa",
   "metadata": {},
   "outputs": [],
   "source": []
  }
 ],
 "metadata": {
  "kernelspec": {
   "display_name": "Python 3 (ipykernel)",
   "language": "python",
   "name": "python3"
  },
  "language_info": {
   "codemirror_mode": {
    "name": "ipython",
    "version": 3
   },
   "file_extension": ".py",
   "mimetype": "text/x-python",
   "name": "python",
   "nbconvert_exporter": "python",
   "pygments_lexer": "ipython3",
   "version": "3.11.5"
  }
 },
 "nbformat": 4,
 "nbformat_minor": 5
}
