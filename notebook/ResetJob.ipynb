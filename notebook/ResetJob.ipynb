{
 "cells": [
  {
   "cell_type": "code",
   "execution_count": 2,
   "id": "33846df6-4138-4ab5-b0b1-a666537f76d6",
   "metadata": {},
   "outputs": [
    {
     "name": "stderr",
     "output_type": "stream",
     "text": [
      "2024-06-28 09:46:00,286 - INFO - Enable proxy: http://127.0.0.1:7890\n"
     ]
    }
   ],
   "source": [
    "import sys, os\n",
    "sys.path.append(os.path.join(os.getcwd(), '..'))\n",
    "\n",
    "from lib.dao.event import get_event, set_event"
   ]
  },
  {
   "cell_type": "code",
   "execution_count": 3,
   "id": "35f94de5-35e4-4056-8061-c3ca4be20d4a",
   "metadata": {},
   "outputs": [
    {
     "name": "stderr",
     "output_type": "stream",
     "text": [
      "2024-06-28 09:46:00,295 - INFO - Create an new database session\n"
     ]
    },
    {
     "data": {
      "text/plain": [
       "{'initialMoney': 70,\n",
       " 'frame': '1d',\n",
       " 'holdMoney': 32.182987,\n",
       " 'roundNumber': 1,\n",
       " 'holdCoin': 0.009259199999999999,\n",
       " 'initialCoin': 0.0225773,\n",
       " 'latestMaxPrice': 3450.44,\n",
       " 'startTime': 1714885083.767042,\n",
       " 'stopDeclineRate': 10,\n",
       " 'maxRound': 2,\n",
       " 'minWindow': 20,\n",
       " 'maxWindow': 20}"
      ]
     },
     "execution_count": 3,
     "metadata": {},
     "output_type": "execute_result"
    }
   ],
   "source": [
    "get_event('daily_turtle_trade_for_ETH/USDT')"
   ]
  },
  {
   "cell_type": "code",
   "execution_count": 4,
   "id": "a43b33f5-d697-41dc-9f73-1c439cfd322a",
   "metadata": {},
   "outputs": [],
   "source": [
    "set_event('daily_turtle_trade_for_ETH/USDT', {\n",
    "    'initialMoney': 70, \n",
    "    'frame': '1d', \n",
    "    'holdMoney': 63.954359, \n",
    "    'roundNumber': 0, \n",
    "    'holdCoin': 0, \n",
    "    'initialCoin': 0.0225773, \n",
    "    'latestMaxPrice': -1, \n",
    "    'startTime': 1714885083.767042, \n",
    "    'stopDeclineRate': 10, \n",
    "    'maxRound': 2, \n",
    "    'minWindow': 20, \n",
    "    'maxWindow': 20\n",
    "})"
   ]
  },
  {
   "cell_type": "code",
   "execution_count": null,
   "id": "3adcefa8-ad69-404e-8c4a-b66d4a44439c",
   "metadata": {},
   "outputs": [],
   "source": []
  }
 ],
 "metadata": {
  "kernelspec": {
   "display_name": "Python 3 (ipykernel)",
   "language": "python",
   "name": "python3"
  },
  "language_info": {
   "codemirror_mode": {
    "name": "ipython",
    "version": 3
   },
   "file_extension": ".py",
   "mimetype": "text/x-python",
   "name": "python",
   "nbconvert_exporter": "python",
   "pygments_lexer": "ipython3",
   "version": "3.11.5"
  }
 },
 "nbformat": 4,
 "nbformat_minor": 5
}
