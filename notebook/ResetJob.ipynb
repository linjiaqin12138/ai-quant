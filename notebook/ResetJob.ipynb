{
 "cells": [
  {
   "cell_type": "code",
   "execution_count": 1,
   "id": "d5c6fda7-271b-432a-8e8b-c75334967527",
   "metadata": {},
   "outputs": [],
   "source": [
    "from lib.adapter.database.kv_store import KeyValueStore\n",
    "from lib.adapter.database.session import SqlAlchemySession\n",
    "from lib.utils.list import map_by\n",
    "from lib.utils.time import dt_to_ts\n",
    "\n",
    "from datetime import datetime"
   ]
  },
  {
   "cell_type": "code",
   "execution_count": 2,
   "id": "e761d8d5-7e58-49f6-8afc-aa71d62296c9",
   "metadata": {},
   "outputs": [],
   "source": [
    "def get_key(key: str):\n",
    "    with SqlAlchemySession() as sess:\n",
    "        return KeyValueStore(sess).get(key)\n",
    "\n",
    "def set_kv(key, val):\n",
    "    with SqlAlchemySession() as sess:\n",
    "        KeyValueStore(sess).set(key, val)\n",
    "        sess.commit()\n",
    "        return\n",
    "\n",
    "def delete_key(key):\n",
    "    with SqlAlchemySession() as sess:\n",
    "        KeyValueStore(sess).delete(key)\n",
    "        sess.commit()\n",
    "        return\n",
    "        \n",
    "def get_all_keys():\n",
    "    with SqlAlchemySession() as sess:\n",
    "        return map_by(sess.execute(\"select `key` from events\").rows, lambda x:x[0])"
   ]
  },
  {
   "cell_type": "code",
   "execution_count": 4,
   "id": "537cb3de-a224-4cd1-b89b-a5452c9304fa",
   "metadata": {},
   "outputs": [
    {
     "name": "stderr",
     "output_type": "stream",
     "text": [
      "2025-02-25 15:49:06,269 - DEBUG - SQL: SELECT events.key, events.context, events.type \n",
      "FROM events \n",
      "WHERE events.key = :key_1\n",
      "2025-02-25 15:49:06,276 - DEBUG - params: {'key_1': 'cointime_news_cache_time_range'}\n"
     ]
    },
    {
     "data": {
      "text/plain": [
       "{'start': 1732924800000,\n",
       " 'end': 1740438033001,\n",
       " 'query_start': 1732924800000,\n",
       " 'query_end': 1740441600000}"
      ]
     },
     "execution_count": 4,
     "metadata": {},
     "output_type": "execute_result"
    }
   ],
   "source": [
    "get_key('cointime_news_cache_time_range')"
   ]
  },
  {
   "cell_type": "code",
   "execution_count": 5,
   "id": "159737e7-7a97-41cb-998a-506a9ee16d96",
   "metadata": {},
   "outputs": [],
   "source": [
    "from lib.utils.time import ts_to_dt"
   ]
  },
  {
   "cell_type": "code",
   "execution_count": 18,
   "id": "576bade9-f16e-4d70-9f5b-fcdea9d8eb17",
   "metadata": {},
   "outputs": [
    {
     "data": {
      "text/plain": [
       "datetime.datetime(2025, 2, 25, 8, 0)"
      ]
     },
     "execution_count": 18,
     "metadata": {},
     "output_type": "execute_result"
    }
   ],
   "source": [
    "ts_to_dt(1740441600000)"
   ]
  },
  {
   "cell_type": "code",
   "execution_count": 17,
   "id": "f14b41ed-752f-4565-b76e-fd49de954a58",
   "metadata": {},
   "outputs": [
    {
     "data": {
      "text/plain": [
       "datetime.datetime(2024, 11, 30, 8, 0, 17)"
      ]
     },
     "execution_count": 17,
     "metadata": {},
     "output_type": "execute_result"
    }
   ],
   "source": [
    "ts_to_dt(1732924817000)"
   ]
  },
  {
   "cell_type": "code",
   "execution_count": 16,
   "id": "670a575f-82d3-4be9-8c3c-d456afac57a9",
   "metadata": {},
   "outputs": [
    {
     "name": "stderr",
     "output_type": "stream",
     "text": [
      "2025-02-25 15:52:59,988 - DEBUG - SQL: select * from hot_news_cache where platform='cointime' ORDER BY timestamp ASC limit 1 \n",
      "2025-02-25 15:52:59,988 - DEBUG - params: None\n"
     ]
    },
    {
     "name": "stdout",
     "output_type": "stream",
     "text": [
      "ExecuteResult(rows=[('575021', 'cointime', '今日加密货币总市值33,999.13亿美元，24小时交易量1,664.38亿美元', '今日加密货币总市值33,999.13亿美元，过去24小时上涨2.30%；24小时交易量1,664.38亿美元，其中BTC占有率达56.70%。\\n', 'https://cn.cointime.ai/flash-news/jin-ri-jia-mi-huo-bi-zong-shi-zhi-33-999-13-yi-mei-yuan-24-xiao-shi-jiao-yi-liang-1-664-38-yi-mei-yuan-91133', 1732924817000, None, None)], row_count=1)\n"
     ]
    }
   ],
   "source": [
    "with SqlAlchemySession() as sess:\n",
    "    print(sess.execute(\"select * from hot_news_cache where platform='cointime' ORDER BY timestamp ASC limit 1 \"))"
   ]
  },
  {
   "cell_type": "code",
   "execution_count": null,
   "id": "2719c6ce-b8d0-40d0-b92c-9756f4a86980",
   "metadata": {},
   "outputs": [],
   "source": []
  }
 ],
 "metadata": {
  "kernelspec": {
   "display_name": "Python 3 (ipykernel)",
   "language": "python",
   "name": "python3"
  },
  "language_info": {
   "codemirror_mode": {
    "name": "ipython",
    "version": 3
   },
   "file_extension": ".py",
   "mimetype": "text/x-python",
   "name": "python",
   "nbconvert_exporter": "python",
   "pygments_lexer": "ipython3",
   "version": "3.11.5"
  }
 },
 "nbformat": 4,
 "nbformat_minor": 5
}
