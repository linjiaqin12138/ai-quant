{
 "cells": [
  {
   "cell_type": "code",
   "execution_count": 1,
   "id": "33846df6-4138-4ab5-b0b1-a666537f76d6",
   "metadata": {},
   "outputs": [],
   "source": [
    "from lib.adapter.database.kv_store import KeyValueStore\n",
    "from lib.adapter.database.session import SqlAlchemySession"
   ]
  },
  {
   "cell_type": "code",
   "execution_count": 2,
   "id": "35f94de5-35e4-4056-8061-c3ca4be20d4a",
   "metadata": {},
   "outputs": [],
   "source": [
    "session = SqlAlchemySession()\n",
    "kv_store = KeyValueStore(session)"
   ]
  },
  {
   "cell_type": "code",
   "execution_count": 16,
   "id": "7cec725f-fe7d-4b2d-a9bf-fa4ebade7b9b",
   "metadata": {},
   "outputs": [
    {
     "name": "stderr",
     "output_type": "stream",
     "text": [
      "2024-07-18 20:46:41,488 - DEBUG - SQL: SELECT events.key, events.context, events.type \n",
      "FROM events \n",
      "WHERE events.key = :key_1\n",
      "2024-07-18 20:46:41,489 - DEBUG - params: {'key_1': 'HIGH/USDT_1h_20_TURTLE_PLAN'}\n",
      "2024-07-18 20:46:41,594 - DEBUG - SQL: SELECT events.key, events.context, events.type \n",
      "FROM events \n",
      "WHERE events.key = :key_1\n",
      "2024-07-18 20:46:41,594 - DEBUG - params: {'key_1': 'HIGH/USDT_1h_20_TURTLE_PLAN'}\n",
      "2024-07-18 20:46:41,703 - DEBUG - SQL: UPDATE events SET context=:context, type=:type WHERE events.key = :key_1\n",
      "2024-07-18 20:46:41,703 - DEBUG - params: {'context': '{\"account_usdt_amount\": 1.957, \"account_coin_amount\": 13.554432, \"buyable\": false, \"sellable\": true, \"max_price\": 2.001, \"buy_round\": 1, \"last_time_buy\": 1720850400000}', 'type': 'json', 'key_1': 'HIGH/USDT_1h_20_TURTLE_PLAN'}\n"
     ]
    }
   ],
   "source": [
    "with session:\n",
    "    res = kv_store.get('HIGH/USDT_1h_20_TURTLE_PLAN')\n",
    "    res['account_coin_amount'] = 13.554432\n",
    "    kv_store.set('HIGH/USDT_1h_20_TURTLE_PLAN', res)\n",
    "    session.commit()"
   ]
  },
  {
   "cell_type": "code",
   "execution_count": 7,
   "id": "0c57f741-4d5f-4990-83d2-9ac6de2207fd",
   "metadata": {},
   "outputs": [
    {
     "name": "stderr",
     "output_type": "stream",
     "text": [
      "2024-07-18 20:39:34,767 - DEBUG - SQL: SELECT events.key, events.context, events.type \n",
      "FROM events \n",
      "WHERE events.key = :key_1\n",
      "2024-07-18 20:39:34,768 - DEBUG - params: {'key_1': 'FET/USDT_1h_20_TURTLE_PLAN'}\n"
     ]
    },
    {
     "name": "stdout",
     "output_type": "stream",
     "text": [
      "{'account_usdt_amount': 20, 'account_coin_amount': 0, 'buyable': True, 'sellable': False, 'buy_round': 0}\n"
     ]
    }
   ],
   "source": [
    "with session:\n",
    "    res = kv_store.get('FET/USDT_1h_20_TURTLE_PLAN')\n",
    "    print(res)"
   ]
  },
  {
   "cell_type": "code",
   "execution_count": 4,
   "id": "a43b33f5-d697-41dc-9f73-1c439cfd322a",
   "metadata": {},
   "outputs": [],
   "source": [
    "set_event('daily_turtle_trade_for_ETH/USDT', {\n",
    "    'initialMoney': 70, \n",
    "    'frame': '1d', \n",
    "    'holdMoney': 63.954359, \n",
    "    'roundNumber': 0, \n",
    "    'holdCoin': 0, \n",
    "    'initialCoin': 0.0225773, \n",
    "    'latestMaxPrice': -1, \n",
    "    'startTime': 1714885083.767042, \n",
    "    'stopDeclineRate': 10, \n",
    "    'maxRound': 2, \n",
    "    'minWindow': 20, \n",
    "    'maxWindow': 20\n",
    "})"
   ]
  },
  {
   "cell_type": "code",
   "execution_count": 10,
   "id": "3adcefa8-ad69-404e-8c4a-b66d4a44439c",
   "metadata": {},
   "outputs": [
    {
     "name": "stdout",
     "output_type": "stream",
     "text": [
      "BAKE/USDT_1h_20_TURTLE_PLAN {'account_usdt_amount': 3.6919, 'account_coin_amount': 68.8187, 'buyable': False, 'sellable': True, 'max_price': 0.3095, 'buy_round': 1, 'last_time_buy': 1720994400000}\n",
      "BTC/USDT_1d_100_TURTLE_PLAN {'account_usdt_amount': 0, 'account_coin_amount': 0.00153846, 'buyable': False, 'sellable': True, 'max_price': 65043.99, 'buy_round': 1, 'last_time_buy': 1721088000000}\n",
      "ETH/USDT_1d_100_TURTLE_PLAN {'account_usdt_amount': 100, 'account_coin_amount': 0, 'buyable': True, 'sellable': False, 'buy_round': 0}\n",
      "FET/USDT_1h_20_TURTLE_PLAN {'account_usdt_amount': 20, 'account_coin_amount': 0, 'buyable': True, 'sellable': False, 'buy_round': 0}\n",
      "HIGH/USDT_1h_20_TURTLE_PLAN {'account_usdt_amount': 1.957, 'account_coin_amount': 13.554432, 'buyable': False, 'sellable': True, 'max_price': 2.001, 'buy_round': 1, 'last_time_buy': 1720850400000}\n",
      "MKR/USDT_1h_20_TURTLE_PLAN {'account_usdt_amount': 20, 'account_coin_amount': 0, 'buyable': True, 'sellable': False, 'buy_round': 0}\n",
      "TRB/USDT_1h_20_TURTLE_PLAN {'account_usdt_amount': 20, 'account_coin_amount': 0, 'buyable': True, 'sellable': False, 'buy_round': 0}\n"
     ]
    }
   ],
   "source": [
    "with session:\n",
    "    keys = session.execute('select `key` from events where `key` like \\'%_TURTLE_PLAN\\'')\n",
    "    for row in keys.rows:\n",
    "        event = kv_store.get(row.key)\n",
    "        print(row.key, event)\n",
    "        #kv_store.delete(row.key)\n",
    "        #kv_store.set(row.key.replace('_TURTLE_PLAN_TURTLE_PLAN', '_TURTLE_PLAN'), event)\n",
    "\n",
    "    #session.commit()"
   ]
  },
  {
   "cell_type": "code",
   "execution_count": 20,
   "id": "98cf383b-7352-4c52-b4a6-fcf541160ae7",
   "metadata": {},
   "outputs": [
    {
     "data": {
      "text/plain": [
       "'4545213'"
      ]
     },
     "execution_count": 20,
     "metadata": {},
     "output_type": "execute_result"
    }
   ],
   "source": [
    "'123123213'.replace('123', '45')"
   ]
  },
  {
   "cell_type": "code",
   "execution_count": 8,
   "id": "ce7fcc27-7ac9-443d-a7a1-f178d3839cf3",
   "metadata": {},
   "outputs": [],
   "source": [
    "def reset_turtle_context(key):\n",
    "    with session:\n",
    "        kv_store.set(key, {'account_usdt_amount': 20, 'account_coin_amount': 0, 'buyable': True, 'sellable': False, 'buy_round': 0 })\n",
    "        session.commit()\n",
    "        "
   ]
  },
  {
   "cell_type": "code",
   "execution_count": 9,
   "id": "fca29729-7400-4b43-8303-3720722d14d7",
   "metadata": {},
   "outputs": [],
   "source": [
    "reset_turtle_context('TRB/USDT_1h_20_TURTLE_PLAN')"
   ]
  },
  {
   "cell_type": "code",
   "execution_count": null,
   "id": "e761d8d5-7e58-49f6-8afc-aa71d62296c9",
   "metadata": {},
   "outputs": [],
   "source": []
  }
 ],
 "metadata": {
  "kernelspec": {
   "display_name": "Python 3 (ipykernel)",
   "language": "python",
   "name": "python3"
  },
  "language_info": {
   "codemirror_mode": {
    "name": "ipython",
    "version": 3
   },
   "file_extension": ".py",
   "mimetype": "text/x-python",
   "name": "python",
   "nbconvert_exporter": "python",
   "pygments_lexer": "ipython3",
   "version": "3.11.5"
  }
 },
 "nbformat": 4,
 "nbformat_minor": 5
}
