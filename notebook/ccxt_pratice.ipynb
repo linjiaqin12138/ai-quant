{
 "cells": [
  {
   "cell_type": "code",
   "execution_count": 1,
   "id": "10c0ed09-45a3-41c8-838f-6c49dcfb3250",
   "metadata": {},
   "outputs": [],
   "source": [
    "import ccxt, os"
   ]
  },
  {
   "cell_type": "code",
   "execution_count": 7,
   "id": "e5c205db-6e68-4eaa-9769-4696fa0e61c3",
   "metadata": {},
   "outputs": [],
   "source": [
    "binance = ccxt.binance({\n",
    "    \"apiKey\": os.environ.get(\"BINANCE_API_KEY\"),\n",
    "    \"secret\": os.environ.get(\"BINANCE_SECRET_KEY\"),\n",
    "    \"httpsProxy\": 'http://127.0.0.1:7890',\n",
    "    \"wsProxy\": 'http://127.0.0.1:7890'\n",
    "})"
   ]
  },
  {
   "cell_type": "code",
   "execution_count": 8,
   "id": "05388b7a-b023-4a5c-9c74-69aafe686e08",
   "metadata": {},
   "outputs": [
    {
     "data": {
      "text/plain": [
       "{'symbol': 'BTC/USDT',\n",
       " 'timestamp': 1720013182740,\n",
       " 'datetime': '2024-07-03T13:26:22.740Z',\n",
       " 'high': 63152.0,\n",
       " 'low': 59600.0,\n",
       " 'bid': 60336.0,\n",
       " 'bidVolume': 8.99583,\n",
       " 'ask': 60336.01,\n",
       " 'askVolume': 13.85778,\n",
       " 'vwap': 61191.86494882,\n",
       " 'open': 62950.0,\n",
       " 'close': 60336.01,\n",
       " 'last': 60336.01,\n",
       " 'previousClose': 62950.0,\n",
       " 'change': -2613.99,\n",
       " 'percentage': -4.152,\n",
       " 'average': 61643.005,\n",
       " 'baseVolume': 28836.5744,\n",
       " 'quoteVolume': 1764563766.2712898,\n",
       " 'info': {'symbol': 'BTCUSDT',\n",
       "  'priceChange': '-2613.99000000',\n",
       "  'priceChangePercent': '-4.152',\n",
       "  'weightedAvgPrice': '61191.86494882',\n",
       "  'prevClosePrice': '62950.00000000',\n",
       "  'lastPrice': '60336.01000000',\n",
       "  'lastQty': '0.01571000',\n",
       "  'bidPrice': '60336.00000000',\n",
       "  'bidQty': '8.99583000',\n",
       "  'askPrice': '60336.01000000',\n",
       "  'askQty': '13.85778000',\n",
       "  'openPrice': '62950.00000000',\n",
       "  'highPrice': '63152.00000000',\n",
       "  'lowPrice': '59600.00000000',\n",
       "  'volume': '28836.57440000',\n",
       "  'quoteVolume': '1764563766.27128980',\n",
       "  'openTime': '1719926782740',\n",
       "  'closeTime': '1720013182740',\n",
       "  'firstId': '3658362572',\n",
       "  'lastId': '3660193161',\n",
       "  'count': '1830590'}}"
      ]
     },
     "execution_count": 8,
     "metadata": {},
     "output_type": "execute_result"
    }
   ],
   "source": [
    "binance.fetch_ticker('BTC/USDT')"
   ]
  },
  {
   "cell_type": "code",
   "execution_count": 11,
   "id": "24ab53db-f1fe-4a0d-9153-0269313cdb56",
   "metadata": {},
   "outputs": [
    {
     "data": {
      "text/plain": [
       "[[1719844570000, 62831.99, 62831.99, 62831.99, 62831.99, 0.0]]"
      ]
     },
     "execution_count": 11,
     "metadata": {},
     "output_type": "execute_result"
    }
   ],
   "source": [
    "binance.fetch_ohlcv('BTC/USDT', '1s', limit = 1)"
   ]
  },
  {
   "cell_type": "code",
   "execution_count": 6,
   "id": "5e7fc95b-6380-45a6-9127-0a1ff58a8ea5",
   "metadata": {},
   "outputs": [
    {
     "data": {
      "text/plain": [
       "{'info': {},\n",
       " 'id': None,\n",
       " 'clientOrderId': None,\n",
       " 'timestamp': None,\n",
       " 'datetime': None,\n",
       " 'lastTradeTimestamp': None,\n",
       " 'lastUpdateTimestamp': None,\n",
       " 'symbol': 'BTC/USDT',\n",
       " 'type': None,\n",
       " 'timeInForce': None,\n",
       " 'postOnly': False,\n",
       " 'reduceOnly': None,\n",
       " 'side': None,\n",
       " 'price': None,\n",
       " 'triggerPrice': None,\n",
       " 'amount': None,\n",
       " 'cost': None,\n",
       " 'average': None,\n",
       " 'filled': 0.0,\n",
       " 'remaining': None,\n",
       " 'status': None,\n",
       " 'fee': None,\n",
       " 'trades': [],\n",
       " 'fees': [],\n",
       " 'stopPrice': None,\n",
       " 'takeProfitPrice': None,\n",
       " 'stopLossPrice': None}"
      ]
     },
     "execution_count": 6,
     "metadata": {},
     "output_type": "execute_result"
    }
   ],
   "source": [
    "binance.create_order('BTC/USDT', 'market', 'buy', 20 / 62831.99, 62831.99, { 'test': True })"
   ]
  },
  {
   "cell_type": "code",
   "execution_count": null,
   "id": "04617e27-9449-478c-938b-832b7084064a",
   "metadata": {},
   "outputs": [],
   "source": []
  }
 ],
 "metadata": {
  "kernelspec": {
   "display_name": "Python 3 (ipykernel)",
   "language": "python",
   "name": "python3"
  },
  "language_info": {
   "codemirror_mode": {
    "name": "ipython",
    "version": 3
   },
   "file_extension": ".py",
   "mimetype": "text/x-python",
   "name": "python",
   "nbconvert_exporter": "python",
   "pygments_lexer": "ipython3",
   "version": "3.11.5"
  }
 },
 "nbformat": 4,
 "nbformat_minor": 5
}
